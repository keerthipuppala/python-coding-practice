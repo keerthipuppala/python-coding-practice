{
 "cells": [
  {
   "cell_type": "markdown",
   "id": "e60638d4",
   "metadata": {},
   "source": [
    "BUBBLE SORT ALGORITHM:\n",
    "1. start from the begining of the array/list\n",
    "2. compare each pair to adjacent number\n",
    "3. if latest element is grater then adjacent perform swap\n",
    "4. repeate this process till n-1.\n",
    "5. afteer each cycle/pass, largest unsorted element would be in correct position6. repeat pass till all the elements are sorted\n",
    "\n",
    "PSUDOCODE:\n",
    "for i -> 0 to n-1:\n",
    "    for j -> 0 to n-i-2:\n",
    "        if a[j]>a[j+1]:\n",
    "            swap(a[j],a[j+1])\n"
   ]
  },
  {
   "cell_type": "code",
   "execution_count": 1,
   "id": "84f95136",
   "metadata": {},
   "outputs": [
    {
     "name": "stdout",
     "output_type": "stream",
     "text": [
      "Enter the elements:\n",
      "Original list: [4, 2, 7, 3, 4, 2]\n",
      "BubbleSorted: [2, 2, 3, 4, 4, 7]\n"
     ]
    }
   ],
   "source": [
    "def bubble_sort(arr):\n",
    "    n=len(arr)\n",
    "    for i in range(n):\n",
    "        for j in range(0, n-i-1):\n",
    "          if arr[j] > arr[j+1]:\n",
    "            arr[j],arr[j+1]=arr[j+1],arr[j]\n",
    "    return arr\n",
    "size= int(input(\"Enter the number  elements:\"))\n",
    "arr=[]\n",
    "print(\"Enter the elements:\")\n",
    "for _ in range(size):\n",
    "    arr.append(int(input()))\n",
    "print(\"Original list:\",arr)\n",
    "bubble_sort(arr)\n",
    "print(\"BubbleSorted:\", arr)\n"
   ]
  },
  {
   "cell_type": "markdown",
   "id": "0b8ed4c7",
   "metadata": {},
   "source": [
    "Counting sort:or non-compariion sort\n",
    "points:\n",
    "1. no -ve numbers\n",
    "2. no long numbers\n",
    "3. short confined numbers only ex: 0-100\n",
    "Algorithm:\n",
    "1. find max min of array.\n",
    "2. min!< 0.\n",
    "3. create a count array to store the frequency of numbers.\n",
    "4. modify the count array for each element to be store the sum of previous count.\n",
    "5. place the output array back to the original array.\n",
    "PSEUDO CODE:\n",
    "countsort (arr,n):\n",
    "find the max in arr\n",
    "create count(0-max)\n",
    "for i -> 0 to n-1:\n",
    "count[a[i]] +=1\n",
    "for i -> 1 to max_val:\n",
    "count[i]+= count[i-1]\n",
    "create output arr[n]\n",
    "for i->n-1 to 0:\n",
    "output [count[a[i]]-1=a[i]\n",
    "count[a[i]]-=1\n",
    "copy output to arr\n",
    "\n",
    "\n",
    "TIME/SPACE COMPLEXITY\n",
    "O(N+K)"
   ]
  },
  {
   "cell_type": "code",
   "execution_count": 3,
   "id": "07a07b73",
   "metadata": {},
   "outputs": [
    {
     "name": "stdout",
     "output_type": "stream",
     "text": [
      "Enter the elements:\n",
      "Original list: [3, 2, 4, 6, 7, 1, 2, 3, 5]\n",
      "BubbleSorted: [1, 2, 2, 3, 3, 4, 5, 6, 7]\n"
     ]
    }
   ],
   "source": [
    "def csort(arr):\n",
    "    if not arr:\n",
    "       return []\n",
    "    max_val= max(arr)\n",
    "    count= [0]*(max_val+1)\n",
    "    for num in arr:\n",
    "        count[num]+=1\n",
    "    for i in range(1,len(count)):\n",
    "        count[i]+= count[i-1]\n",
    "        output= [0] * len(arr)\n",
    "    for num in reversed(arr):\n",
    "        output[count[num]-1]=num\n",
    "        count[num] -=1\n",
    "    for i in range(len(arr)):\n",
    "        arr[i]= output[i]\n",
    "size= int(input(\"Enter the number  elements:\"))\n",
    "arr=[]\n",
    "print(\"Enter the elements:\")\n",
    "for _ in range(size):\n",
    "    arr.append(int(input()))\n",
    "print(\"Original list:\",arr)\n",
    "csort(arr)\n",
    "print(\"BubbleSorted:\", arr)"
   ]
  },
  {
   "cell_type": "code",
   "execution_count": 5,
   "id": "de334999",
   "metadata": {},
   "outputs": [
    {
     "name": "stdout",
     "output_type": "stream",
     "text": [
      "Original String: keerthipuppala\n",
      "Sorted string: aaeehiklppprtu\n"
     ]
    }
   ],
   "source": [
    "#count sort for the strings\n",
    "def csortString(s):\n",
    "    count=[0]*26\n",
    "    for char in s:\n",
    "        count[ord(char)- ord('a')]+=1\n",
    "    sorted_str = ''\n",
    "    for i in range(26):\n",
    "        sorted_str+=chr(i+ord('a'))*count[i]\n",
    "    return sorted_str\n",
    "\n",
    "name=input(\"enter the single word\")\n",
    "sorted_name = csortString(name)\n",
    "print(\"Original String:\",name)\n",
    "print(\"Sorted string:\", sorted_name)"
   ]
  },
  {
   "cell_type": "markdown",
   "id": "8f465d58",
   "metadata": {},
   "source": [
    "RADIX SORT(bucket sort)\n",
    "1. find the maximum number to determine number of digites\n",
    "2. select 10^0, for digit position \n",
    "3. increment digit position , w.r.t paass\n",
    "4. loop -> maxnum//exp>0\n",
    "    perform count sort based on current digit(num//exp)%10\n",
    "    multiply exp by 10\n",
    "\n",
    "TIME COMPLEXITY\n",
    "O(nk)\n",
    "\n",
    "SPACE COMPLEXITY\n",
    "O(n)"
   ]
  },
  {
   "cell_type": "code",
   "execution_count": 3,
   "id": "4d60055a",
   "metadata": {},
   "outputs": [
    {
     "name": "stdout",
     "output_type": "stream",
     "text": [
      "Enter the elements:\n",
      "Original list: [1, 112, 234, 987, 765, 593, 98, 551, 661, 112, 90, 88]\n",
      "Radix Sorted list: [1, 88, 90, 98, 112, 112, 234, 551, 593, 661, 765, 987]\n"
     ]
    }
   ],
   "source": [
    "# Radix sort\n",
    "def count_sort(arr, exp):\n",
    "    n=len(arr)\n",
    "    output=[0]*n\n",
    "    count=[0]*(10)  # 0->9 empty buckets for count of digits\n",
    "    for i in range(0,n):    # frequencies of units oposition of numbers\n",
    "        index = (arr[i]//exp)%10\n",
    "        count[index]+=1\n",
    "    for i in range(1,10):\n",
    "        count[i]+=count[i-1]\n",
    "    i=n-1\n",
    "    while i>=0:\n",
    "        index = (arr[i]//exp)%10\n",
    "        output[count[index]-1] = arr[i]\n",
    "        count[index]-=1\n",
    "        i-=1\n",
    "    for i in range(0,n):\n",
    "        arr[i] = output[i]\n",
    "\n",
    "            \n",
    "    \n",
    "def radix_sort(arr):\n",
    "    max_num = max(arr)\n",
    "    exp = 1\n",
    "    while max_num//exp > 0:\n",
    "        count_sort(arr, exp)\n",
    "        exp *= 10\n",
    "        \n",
    "    \n",
    "size= int(input(\"Enter the number  elements:\"))\n",
    "arr=[]\n",
    "print(\"Enter the elements:\")\n",
    "for _ in range(size):\n",
    "    arr.append(int(input()))\n",
    "print(\"Original list:\",arr)\n",
    "radix_sort(arr)\n",
    "print(\"Radix Sorted list:\", arr)"
   ]
  },
  {
   "cell_type": "code",
   "execution_count": 12,
   "id": "45e780f9",
   "metadata": {},
   "outputs": [
    {
     "name": "stdout",
     "output_type": "stream",
     "text": [
      "Random number: 7\n"
     ]
    }
   ],
   "source": [
    "import random\n",
    "\n",
    "# Get a random integer between 10 and 50 (inclusive)\n",
    "random_number = random.randint(1, 10)\n",
    "print(\"Random number:\", random_number)\n"
   ]
  },
  {
   "cell_type": "markdown",
   "id": "50c23b65",
   "metadata": {},
   "source": [
    "PANCAKE SORT\n",
    "1. higher value finding\n",
    "2. high value flip\n",
    "3. total flip\n",
    "4. set higher value\n",
    "\n",
    "\n",
    "ALGORITHEM\n",
    "1. start complete array and decrease the size(n-1)\n",
    "2. for each size:\n",
    "a. find the index of max element\n",
    "b. flip the array with max element index\n",
    "c. flip the total array to the current sie\n",
    "max-move to the end of the array \n",
    "3. repeat step1 by n-2, n-3.........\n",
    "for nth reduced element perform step2 untill 0th idex value respectively...."
   ]
  },
  {
   "cell_type": "code",
   "execution_count": null,
   "id": "afeb4f33",
   "metadata": {},
   "outputs": [
    {
     "name": "stdout",
     "output_type": "stream",
     "text": [
      "flip at 9: [89, 23, 34, 1, 12, 5, 2, 4, 3, 45, 24]\n",
      "Flip at 11: [24, 45, 3, 4, 2, 5, 12, 1, 34, 23, 89]\n",
      "flip at 2: [45, 24, 3, 4, 2, 5, 12, 1, 34, 23, 89]\n",
      "Flip at 10: [23, 34, 1, 12, 5, 2, 4, 3, 24, 45, 89]\n",
      "flip at 2: [34, 23, 1, 12, 5, 2, 4, 3, 24, 45, 89]\n",
      "Flip at 9: [24, 3, 4, 2, 5, 12, 1, 23, 34, 45, 89]\n",
      "Flip at 8: [23, 1, 12, 5, 2, 4, 3, 24, 34, 45, 89]\n",
      "Flip at 7: [3, 4, 2, 5, 12, 1, 23, 24, 34, 45, 89]\n",
      "flip at 5: [12, 5, 2, 4, 3, 1, 23, 24, 34, 45, 89]\n",
      "Flip at 6: [1, 3, 4, 2, 5, 12, 23, 24, 34, 45, 89]\n",
      "flip at 3: [4, 3, 1, 2, 5, 12, 23, 24, 34, 45, 89]\n",
      "Flip at 4: [2, 1, 3, 4, 5, 12, 23, 24, 34, 45, 89]\n",
      "Flip at 2: [1, 2, 3, 4, 5, 12, 23, 24, 34, 45, 89]\n",
      "given array is: [3, 4, 2, 5, 12, 1, 34, 23, 89, 45, 24]\n",
      "Sorted array is:  [1, 2, 3, 4, 5, 12, 23, 24, 34, 45, 89]\n"
     ]
    }
   ],
   "source": [
    "# PANCAKE SORT\n",
    "def flip(arr, k):\n",
    "    return arr[:k+1][::-1] + arr[k+1:]\n",
    "def pancake_sort(arr):\n",
    "    n=len(arr)\n",
    "    for size in range(n,1,-1):\n",
    "        max_index = arr.index(max(arr[:size]))\n",
    "        if max_index != size-1:\n",
    "            if max_index != 0:\n",
    "                arr = flip(arr, max_index)\n",
    "                print(f\"flip at {max_index+1}: {arr}\")\n",
    "            arr = flip(arr, size-1)\n",
    "            print(f\"Flip at {size}: {arr}\")\n",
    "    return arr\n",
    "\n",
    "\n",
    "nums = list(map(int, input(\"enter the sepearated with space:\").split()))\n",
    "sorted_nums=pancake_sort(nums)\n",
    "print(\"given array is:\", nums)\n",
    "print(\"Sorted array is: \",sorted_nums)\n"
   ]
  },
  {
   "cell_type": "code",
   "execution_count": null,
   "id": "e5e8290a",
   "metadata": {},
   "outputs": [],
   "source": []
  }
 ],
 "metadata": {
  "kernelspec": {
   "display_name": "base",
   "language": "python",
   "name": "python3"
  },
  "language_info": {
   "codemirror_mode": {
    "name": "ipython",
    "version": 3
   },
   "file_extension": ".py",
   "mimetype": "text/x-python",
   "name": "python",
   "nbconvert_exporter": "python",
   "pygments_lexer": "ipython3",
   "version": "3.12.7"
  }
 },
 "nbformat": 4,
 "nbformat_minor": 5
}
