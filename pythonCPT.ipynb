{
 "cells": [
  {
   "cell_type": "code",
   "execution_count": 5,
   "id": "0445eb3b-7060-4f1c-bf8f-981d1cfe6862",
   "metadata": {},
   "outputs": [
    {
     "name": "stdout",
     "output_type": "stream",
     "text": [
      "BMW\n"
     ]
    }
   ],
   "source": [
    "#classes creation, access class throught obj\n",
    "class a:\n",
    "    def car(self):\n",
    "        print(\"BMW\")\n",
    "obj=a()\n",
    "obj.car()"
   ]
  },
  {
   "cell_type": "code",
   "execution_count": 7,
   "id": "59470f85-46cc-4699-93fc-efee712ecd0f",
   "metadata": {},
   "outputs": [
    {
     "name": "stdout",
     "output_type": "stream",
     "text": [
      "German Shepard\n",
      "austria\n"
     ]
    }
   ],
   "source": [
    "class dog:\n",
    "    def features(self):\n",
    "        print(\"German Shepard\")\n",
    "        print(\"austria\")\n",
    "obj=dog()\n",
    "obj.features()"
   ]
  },
  {
   "cell_type": "code",
   "execution_count": 13,
   "id": "0c57814b-91e9-474f-9f2c-84c11d57eab0",
   "metadata": {},
   "outputs": [
    {
     "name": "stdout",
     "output_type": "stream",
     "text": [
      "keerthi\n"
     ]
    }
   ],
   "source": [
    "#passing parameters to a class\n",
    "class person:\n",
    "    def set_name(self, name):\n",
    "        self.name=name\n",
    "    def get_name(self):\n",
    "        return self.name\n",
    "\n",
    "obj=person()\n",
    "obj.set_name(\"keerthi\")\n",
    "print(obj.get_name())"
   ]
  },
  {
   "cell_type": "code",
   "execution_count": 39,
   "id": "a19cd451-dc7b-437e-9b9a-32456dd51375",
   "metadata": {},
   "outputs": [
    {
     "name": "stdout",
     "output_type": "stream",
     "text": [
      "11\n",
      "3\n"
     ]
    }
   ],
   "source": [
    "#passing parameters to a class\n",
    "class calc:\n",
    "    def add(self, x, y):\n",
    "        return x+y\n",
    "\n",
    "    def sub(self, x, y):\n",
    "        return x-y\n",
    "\n",
    "obj=calc()\n",
    "print(obj.add(4,7))\n",
    "print(obj.sub(7,4))"
   ]
  },
  {
   "cell_type": "code",
   "execution_count": 41,
   "id": "1029f6fd-d3e9-40a2-a1f4-a22697381416",
   "metadata": {},
   "outputs": [
    {
     "name": "stdout",
     "output_type": "stream",
     "text": [
      "11\n",
      "3\n"
     ]
    }
   ],
   "source": [
    "class calc:\n",
    "    def add(self, x, y):\n",
    "        self.x=x\n",
    "        self.y=y\n",
    "        return x+y\n",
    "\n",
    "    def sub(self, x, y):\n",
    "        self.x=x\n",
    "        self.y=y\n",
    "        return x-y\n",
    "\n",
    "obj=calc()\n",
    "print(obj.add(4,7))\n",
    "print(obj.sub(7,4))"
   ]
  },
  {
   "cell_type": "code",
   "execution_count": 65,
   "id": "5c438f06-8d16-4bdf-b8ad-458c697777a0",
   "metadata": {},
   "outputs": [
    {
     "name": "stdout",
     "output_type": "stream",
     "text": [
      "summation: 12\n",
      "difference: 6\n",
      "multiplication: 27\n"
     ]
    }
   ],
   "source": [
    "class calc:\n",
    "    def set_value(self, x, y):\n",
    "        self.x=x\n",
    "        self.y=y\n",
    "    def add(self):\n",
    "        return self.x+self.y\n",
    "\n",
    "    def sub(self):\n",
    "        return self.x-self.y\n",
    "    def mul(self):\n",
    "        return self.x*self.y\n",
    "\n",
    "obj=calc()\n",
    "obj.set_value(9,3)\n",
    "print(\"summation:\",obj.add())\n",
    "print(\"difference:\",obj.sub())\n",
    "print(\"multiplication:\",obj.mul())"
   ]
  },
  {
   "cell_type": "code",
   "execution_count": 79,
   "id": "4aa866a3-d238-46d5-9334-a1070c598fff",
   "metadata": {},
   "outputs": [
    {
     "name": "stdin",
     "output_type": "stream",
     "text": [
      "enter the radius: 6\n"
     ]
    },
    {
     "name": "stdout",
     "output_type": "stream",
     "text": [
      "area: 113.09733552923255\n",
      "circumference:  37.69911184307752\n"
     ]
    }
   ],
   "source": [
    "'''caliculate the area and circumference of a circle bye considering a class circle and different area and circumference function, which return the result to the main\n",
    "constrait: pi=3.1415 or import math pi and r=6'''\n",
    "\n",
    "from math import pi\n",
    "class circle:\n",
    "    def set_radius(self, r):\n",
    "        self.r=r\n",
    "    def area(self):\n",
    "        return pi*self.r**2\n",
    "    def circumference(self):\n",
    "        return 2*pi*self.r\n",
    "radius=int(input(\"enter the radius:\"))\n",
    "obj = circle()\n",
    "obj.set_radius(radius)\n",
    "print(\"area:\",obj.area())\n",
    "print(\"circumference: \",obj.circumference())"
   ]
  },
  {
   "cell_type": "code",
   "execution_count": 81,
   "id": "394e439f-493a-44a7-89d3-f88e201a2a44",
   "metadata": {},
   "outputs": [
    {
     "name": "stdout",
     "output_type": "stream",
     "text": [
      "keerthi 5.4 100\n"
     ]
    }
   ],
   "source": [
    "class person:\n",
    "    def __init__(self,name, height,weight):\n",
    "        self.name=name\n",
    "        self.height=height\n",
    "        self.weight=weight\n",
    "p=person(\"keerthi\",5.4, 100)\n",
    "print(p.name, p.height,p.weight)"
   ]
  },
  {
   "cell_type": "code",
   "execution_count": 85,
   "id": "76007ad0-d7f6-4276-899e-8bcc4dbbed61",
   "metadata": {},
   "outputs": [
    {
     "name": "stdout",
     "output_type": "stream",
     "text": [
      "c unknown 1999\n",
      "java keethi 1998\n"
     ]
    }
   ],
   "source": [
    "class book:\n",
    "    def __init__(self,title, author=\"unknown\",year=1999):\n",
    "        self.title=title\n",
    "        self.author=author\n",
    "        self.year=year\n",
    "\n",
    "b1=book(\"c\")\n",
    "b2=book(\"java\",\"keethi\",1998)\n",
    "print(b1.title, b1.author,b1.year)\n",
    "print(b2.title, b2.author,b2.year)"
   ]
  },
  {
   "cell_type": "code",
   "execution_count": 93,
   "id": "db1a30f0-86a9-43c6-9d63-5804e60ef221",
   "metadata": {},
   "outputs": [
    {
     "name": "stdin",
     "output_type": "stream",
     "text": [
      "enter the items: milk , bread\n"
     ]
    },
    {
     "name": "stdout",
     "output_type": "stream",
     "text": [
      "['milk , bread']\n"
     ]
    }
   ],
   "source": [
    "#list or collections thorough the class\n",
    "class shopping:\n",
    "    def __init__(self):\n",
    "        self.items=[]\n",
    "    def add_items(self,items):\n",
    "        self.items.append(items)\n",
    "\n",
    "cart= shopping()\n",
    "shop=input(\"enter the items:\")\n",
    "cart.add_items(shop)\n",
    "print(cart.items)"
   ]
  },
  {
   "cell_type": "code",
   "execution_count": 99,
   "id": "5a56f7ec-619e-4630-950a-b6d85397f931",
   "metadata": {},
   "outputs": [
    {
     "name": "stdout",
     "output_type": "stream",
     "text": [
      "vijay {'maths': 89, 'science': 81}\n"
     ]
    }
   ],
   "source": [
    "#class with direct...\n",
    "class student:\n",
    "    def __init__(self,name):\n",
    "        self.name=name\n",
    "        self.grades={}\n",
    "    def add_grade(self,subject,grade):\n",
    "        self.grades[subject]=grade\n",
    "s=student(\"vijay\")\n",
    "s.add_grade(\"maths\",89)\n",
    "s.add_grade(\"science\",81)\n",
    "print(s.name,s.grades)\n",
    "        "
   ]
  },
  {
   "cell_type": "code",
   "execution_count": null,
   "id": "e6115875-fcd4-4eda-99ab-ee983de2968a",
   "metadata": {},
   "outputs": [],
   "source": []
  }
 ],
 "metadata": {
  "kernelspec": {
   "display_name": "Python 3 (ipykernel)",
   "language": "python",
   "name": "python3"
  },
  "language_info": {
   "codemirror_mode": {
    "name": "ipython",
    "version": 3
   },
   "file_extension": ".py",
   "mimetype": "text/x-python",
   "name": "python",
   "nbconvert_exporter": "python",
   "pygments_lexer": "ipython3",
   "version": "3.12.7"
  }
 },
 "nbformat": 4,
 "nbformat_minor": 5
}
