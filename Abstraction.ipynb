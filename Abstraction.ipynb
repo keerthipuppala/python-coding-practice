{
 "cells": [
  {
   "cell_type": "code",
   "execution_count": 5,
   "id": "701b07ae-b3b9-48db-8301-91ce4bebd839",
   "metadata": {},
   "outputs": [
    {
     "name": "stdout",
     "output_type": "stream",
     "text": [
      "Drives on the road!!!\n",
      "stopped!!!\n",
      "sail on the water\n",
      "stopped!!!\n"
     ]
    }
   ],
   "source": [
    "#abstract methadology #abc-> abstract base class\n",
    "from abc import ABC, abstractmethod\n",
    "class vehicle(ABC):    #abstract method\n",
    "    def move(self):    #subclass implementationby abstract method\n",
    "        pass\n",
    "    def stop(self):      #method shared by all subclass\n",
    "        return \"stopped!!!\"\n",
    "class car(vehicle):\n",
    "    def move(self):\n",
    "        return \"Drives on the road!!!\"\n",
    "class boat(vehicle):\n",
    "    def move(self):\n",
    "        return \"sail on the water\"\n",
    "Car=car()\n",
    "Boat=boat()\n",
    "print(Car.move())\n",
    "print(Car.stop())\n",
    "print(Boat.move())\n",
    "print(Boat.stop())\n"
   ]
  },
  {
   "cell_type": "code",
   "execution_count": 17,
   "id": "05c2a484-87fe-4104-8dd8-c29d730e5b11",
   "metadata": {},
   "outputs": [
    {
     "name": "stdout",
     "output_type": "stream",
     "text": [
      "Bark.....\n",
      "Zzzzzzz..........\n",
      "Mooooooze.....\n",
      "Zzzzzzz..........\n"
     ]
    }
   ],
   "source": [
    "class animals(ABC):\n",
    "    def sound(self):\n",
    "        pass\n",
    "    def sleep(self):\n",
    "        return \"Zzzzzzz..........\"\n",
    "class dog(animals):\n",
    "    def sound(self):\n",
    "        return \"Bark.....\"\n",
    "class cow(animals):\n",
    "    def sound(self):\n",
    "        return \"Mooooooze.....\"\n",
    "Dog=dog()\n",
    "Cow=cow()\n",
    "print(Dog.sound())\n",
    "print(Dog.sleep())\n",
    "print(Cow.sound())\n",
    "print(Cow.sleep())"
   ]
  },
  {
   "cell_type": "code",
   "execution_count": 29,
   "id": "0b39fd3e-47fc-4be8-80de-5b06ccabfdef",
   "metadata": {},
   "outputs": [
    {
     "name": "stdin",
     "output_type": "stream",
     "text": [
      "Enter the radius of the circle : 5\n",
      "enter the side of the square: 4\n"
     ]
    },
    {
     "name": "stdout",
     "output_type": "stream",
     "text": [
      "78.53981633974483\n",
      "16\n"
     ]
    }
   ],
   "source": [
    "''' create a abstract method for different shapes to caliculate the area of the respective shapes through concrete subclasses. Return the values by passung different args.\n",
    "clircle: pass 5 as radius\n",
    "square : pass 4 as side'''\n",
    "from math import pi\n",
    "class shape(ABC):\n",
    "    def area(self):\n",
    "        pass\n",
    "class Circle(shape):\n",
    "    def __init__(self,radius):\n",
    "        self.radius=radius\n",
    "    def area(self):\n",
    "        return pi*self.radius**2\n",
    "\n",
    "class Square(shape):\n",
    "    def __init__(self,side):\n",
    "        self.side=side\n",
    "    def area(self):\n",
    "        return self.side**2\n",
    "r=int(input(\"Enter the radius of the circle :\"))\n",
    "s= int(input(\"enter the side of the square:\"))\n",
    "circle =Circle(r)\n",
    "square = Square(s)\n",
    "print(circle.area())\n",
    "print(square.area())"
   ]
  },
  {
   "cell_type": "code",
   "execution_count": 43,
   "id": "73cd4534-5e5b-4e20-941b-b1241ce957ea",
   "metadata": {},
   "outputs": [
    {
     "name": "stdin",
     "output_type": "stream",
     "text": [
      "enter the value of a: 6\n",
      "enter the valuie of b: 4\n"
     ]
    },
    {
     "name": "stdout",
     "output_type": "stream",
     "text": [
      "10\n",
      "2\n",
      " This is a simple math operations, when ever you call it will work\n",
      " This is a simple math operations, when ever you call it will work\n"
     ]
    }
   ],
   "source": [
    "#math operstion using abstract methods with subclass of arithmatic operations\n",
    "\n",
    "from abc import ABC, abstractmethod\n",
    "class op(ABC):\n",
    "    def cal(self, a,b):\n",
    "        pass\n",
    "    def gen(self):\n",
    "        return \" This is a simple math operations, when ever you call it will work\"\n",
    "class Addition(op):\n",
    "    def cal(self,a,b):\n",
    "        return a+b\n",
    "class Subtraction(op):\n",
    "    def cal(self,a,b):\n",
    "        return a-b\n",
    "a=int(input(\"enter the value of a:\"))\n",
    "b= int(input(\"enter the valuie of b:\"))\n",
    "add=Addition()\n",
    "sub=Subtraction()\n",
    "print(add.cal(a,b))\n",
    "print(sub.cal(a,b))\n",
    "print(add.gen())\n",
    "print(sub.gen())"
   ]
  },
  {
   "cell_type": "code",
   "execution_count": 45,
   "id": "ccd111f7-c291-4b10-a5b6-ac64f0480f0c",
   "metadata": {},
   "outputs": [
    {
     "name": "stdin",
     "output_type": "stream",
     "text": [
      "enter the value of a: 5\n",
      "enter the valuie of b: 4\n"
     ]
    },
    {
     "name": "stdout",
     "output_type": "stream",
     "text": [
      "9\n",
      "1\n",
      " This is a simple math operations, when ever you call it will work\n",
      " This is a simple math operations, when ever you call it will work\n"
     ]
    }
   ],
   "source": [
    "class op(ABC):\n",
    "    def cal(self, a,b):\n",
    "        pass\n",
    "    def gen(self):\n",
    "        return \" This is a simple math operations, when ever you call it will work\"\n",
    "class Addition(op):\n",
    "    def __init__(self,a,b):\n",
    "        self.a=a\n",
    "        self.b=b\n",
    "    def cal(self):\n",
    "        return self.a+self.b\n",
    "\n",
    "class Subtraction(op):\n",
    "    def __init__(self,a,b):\n",
    "        self.a=a\n",
    "        self.b=b\n",
    "    def cal(self):\n",
    "        return self.a-self.b\n",
    "a=int(input(\"enter the value of a:\"))\n",
    "b= int(input(\"enter the valuie of b:\"))\n",
    "add=Addition(a,b)\n",
    "sub=Subtraction(a,b)\n",
    "print(add.cal())\n",
    "print(sub.cal())\n",
    "print(add.gen())\n",
    "print(sub.gen())"
   ]
  },
  {
   "cell_type": "code",
   "execution_count": null,
   "id": "1bc3c86f-3d5d-4c98-9cd8-6201bde6e4b0",
   "metadata": {},
   "outputs": [],
   "source": []
  }
 ],
 "metadata": {
  "kernelspec": {
   "display_name": "Python 3 (ipykernel)",
   "language": "python",
   "name": "python3"
  },
  "language_info": {
   "codemirror_mode": {
    "name": "ipython",
    "version": 3
   },
   "file_extension": ".py",
   "mimetype": "text/x-python",
   "name": "python",
   "nbconvert_exporter": "python",
   "pygments_lexer": "ipython3",
   "version": "3.12.7"
  }
 },
 "nbformat": 4,
 "nbformat_minor": 5
}
