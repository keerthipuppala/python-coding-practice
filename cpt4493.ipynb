{
 "cells": [
  {
   "cell_type": "code",
   "execution_count": 8,
   "id": "0b678948-66ce-47a8-bf35-25011a154636",
   "metadata": {},
   "outputs": [
    {
     "data": {
      "text/plain": [
       "1"
      ]
     },
     "execution_count": 8,
     "metadata": {},
     "output_type": "execute_result"
    }
   ],
   "source": [
    "6>>+2"
   ]
  },
  {
   "cell_type": "code",
   "execution_count": 18,
   "id": "b071f0c6-b137-4638-8634-153c02a6f5dd",
   "metadata": {},
   "outputs": [
    {
     "name": "stdout",
     "output_type": "stream",
     "text": [
      "2 1\n"
     ]
    }
   ],
   "source": [
    "a=1\n",
    "b=2\n",
    "a=a+b\n",
    "b=a-b\n",
    "a=a-b\n",
    "print(a,b)"
   ]
  },
  {
   "cell_type": "code",
   "execution_count": 24,
   "id": "ef51a3d7-6444-4394-a99a-b949d8cb5083",
   "metadata": {},
   "outputs": [
    {
     "data": {
      "text/plain": [
       "1.0"
      ]
     },
     "execution_count": 24,
     "metadata": {},
     "output_type": "execute_result"
    }
   ],
   "source": [
    "2/2"
   ]
  },
  {
   "cell_type": "code",
   "execution_count": 30,
   "id": "12494e61-d1a0-4625-98f2-141b04184def",
   "metadata": {},
   "outputs": [
    {
     "name": "stdout",
     "output_type": "stream",
     "text": [
      "4.0 10.0\n"
     ]
    }
   ],
   "source": [
    "a=10\n",
    "b=4\n",
    "a=a*b\n",
    "b=a/b\n",
    "a=a/b\n",
    "print(a,b)"
   ]
  },
  {
   "cell_type": "code",
   "execution_count": 32,
   "id": "6fe1bc03-4d98-46d6-8ff5-093fa9691161",
   "metadata": {},
   "outputs": [
    {
     "name": "stdout",
     "output_type": "stream",
     "text": [
      "4 2\n"
     ]
    }
   ],
   "source": [
    "a=2\n",
    "b=4\n",
    "a=a^b\n",
    "b=a^b\n",
    "a=a^b\n",
    "print(a,b)"
   ]
  },
  {
   "cell_type": "code",
   "execution_count": 36,
   "id": "9d05799e-ef1d-44f7-aaa4-7f86b0035c62",
   "metadata": {},
   "outputs": [
    {
     "name": "stdout",
     "output_type": "stream",
     "text": [
      "{'a': 10, 'b': 20}\n",
      "20 10\n"
     ]
    }
   ],
   "source": [
    "dict={'a':10,'b':20}\n",
    "print(dict)\n",
    "dict['a']=dict['a']+dict['b']\n",
    "dict['b']=dict['a']-dict['b']\n",
    "dict['a']=dict['a']-dict['b']\n",
    "print(dict['a'],dict['b'])"
   ]
  },
  {
   "cell_type": "code",
   "execution_count": 38,
   "id": "bca17676-321e-4f38-89ed-859da66e8fee",
   "metadata": {},
   "outputs": [
    {
     "name": "stdout",
     "output_type": "stream",
     "text": [
      "before swap\n",
      "{'a': 10, 'b': 20}\n",
      "after swap\n",
      "{'a': 20, 'b': 10}\n"
     ]
    }
   ],
   "source": [
    "dict={'a':10,'b':20}\n",
    "print(\"before swap\")\n",
    "print(dict)\n",
    "dict['a'],dict['b']=dict['b'],dict['a']\n",
    "print(\"after swap\")\n",
    "print(dict)\n"
   ]
  },
  {
   "cell_type": "code",
   "execution_count": 42,
   "id": "ca2aee42-2f87-4915-b7b3-337ab0e5dd01",
   "metadata": {},
   "outputs": [
    {
     "name": "stdout",
     "output_type": "stream",
     "text": [
      "99 -8 4\n"
     ]
    }
   ],
   "source": [
    "a,b,c=-8,4,99\n",
    "a=a+b+c\n",
    "b=a-b-c\n",
    "c=a-b-c\n",
    "a=a-b-c\n",
    "print(a,b,c)"
   ]
  },
  {
   "cell_type": "code",
   "execution_count": 46,
   "id": "2157cab0-44d8-4acc-acf6-032776848fa9",
   "metadata": {},
   "outputs": [
    {
     "name": "stdout",
     "output_type": "stream",
     "text": [
      "99.0 -8.0 4.0\n"
     ]
    }
   ],
   "source": [
    "a,b,c=-8,4,99\n",
    "a=a*(b*c)\n",
    "b=a/b/c\n",
    "c=a/b/c\n",
    "a=a/b/c\n",
    "print(a,b,c)"
   ]
  },
  {
   "cell_type": "code",
   "execution_count": null,
   "id": "a44fb0da-3319-4676-817f-febdd5ae8e2b",
   "metadata": {},
   "outputs": [],
   "source": [
    "print([i for i in range(1,11)])"
   ]
  },
  {
   "cell_type": "code",
   "execution_count": null,
   "id": "f147f1f8-cf5f-48c4-bdb3-1ef1648c8913",
   "metadata": {},
   "outputs": [],
   "source": [
    " print([i for i in range(1,11) if i%2==0])"
   ]
  },
  {
   "cell_type": "code",
   "execution_count": 56,
   "id": "1104b998-f621-42ae-ac4f-73789b03dac4",
   "metadata": {},
   "outputs": [
    {
     "name": "stdout",
     "output_type": "stream",
     "text": [
      "[1, 3, 5, 7, 9]\n"
     ]
    }
   ],
   "source": [
    "print([i for i in range(1,11) if i%2!=0])"
   ]
  },
  {
   "cell_type": "code",
   "execution_count": 60,
   "id": "6ea270d9-08b1-4ba3-a274-74a76ea30661",
   "metadata": {},
   "outputs": [
    {
     "name": "stdout",
     "output_type": "stream",
     "text": [
      "[1, 4, 9, 16, 25, 36, 49, 64, 81, 100]\n"
     ]
    }
   ],
   "source": [
    "print([i**2 for i in range(1,11)])"
   ]
  },
  {
   "cell_type": "code",
   "execution_count": 64,
   "id": "58416e91-649a-4fa4-a96a-1fa6b8b2f44a",
   "metadata": {},
   "outputs": [
    {
     "name": "stdout",
     "output_type": "stream",
     "text": [
      "[[0, 0, 0], [0, 1, 2], [0, 2, 4]]\n"
     ]
    }
   ],
   "source": [
    "print([[i*j for j in range(3)] for i in range(3)])"
   ]
  },
  {
   "cell_type": "code",
   "execution_count": 70,
   "id": "a1936272-4ab4-46ed-9338-1433acf4f7da",
   "metadata": {},
   "outputs": [
    {
     "name": "stdout",
     "output_type": "stream",
     "text": [
      "[[0, 0, 0], [1, 1, 1], [2, 2, 2]]\n"
     ]
    }
   ],
   "source": [
    "print([[i for j in range(3)] for i in range(3)])"
   ]
  },
  {
   "cell_type": "code",
   "execution_count": 74,
   "id": "82219cc7-af9a-4c1a-b405-69a9b90a4b75",
   "metadata": {},
   "outputs": [
    {
     "name": "stdout",
     "output_type": "stream",
     "text": [
      "[[0, 0, 0], [0, 2, 4]]\n"
     ]
    }
   ],
   "source": [
    "print([[i for j in range(3)] for i in range(3) if i%2==0])"
   ]
  },
  {
   "cell_type": "code",
   "execution_count": 92,
   "id": "ffc2d46b-6b1f-4a65-bdb1-d5768bf8aea0",
   "metadata": {},
   "outputs": [
    {
     "name": "stdout",
     "output_type": "stream",
     "text": [
      "enter number: 3456\n"
     ]
    },
    {
     "name": "stdout",
     "output_type": "stream",
     "text": [
      "original number: 3456\n",
      "reverse number 6543\n"
     ]
    }
   ],
   "source": [
    "#reverse number\n",
    "n=int(input(\"enter number:\"))\n",
    "print(\"original number:\",n)\n",
    "rnum=0\n",
    "while n>0:\n",
    "    r=n%10\n",
    "    rnum=rnum*10+r\n",
    "    n//=10\n",
    "print(\"reverse number\",rnum)\n"
   ]
  },
  {
   "cell_type": "code",
   "execution_count": 96,
   "id": "5ac6e41f-6d58-4b3c-ac1f-8388ef2d9d00",
   "metadata": {},
   "outputs": [
    {
     "name": "stdout",
     "output_type": "stream",
     "text": [
      "enter number: 098765\n"
     ]
    },
    {
     "name": "stdout",
     "output_type": "stream",
     "text": [
      "original number: 98765\n",
      "reverse number 56789\n"
     ]
    }
   ],
   "source": [
    "n=int(input(\"enter number:\"))\n",
    "print(\"original number:\",n)\n",
    "rnum=int(str(n)[::-1])\n",
    "print(\"reverse number\",rnum)"
   ]
  },
  {
   "cell_type": "code",
   "execution_count": 102,
   "id": "0a99dc15-811b-4c6e-8ad2-e9a00bc1e08e",
   "metadata": {},
   "outputs": [
    {
     "name": "stdout",
     "output_type": "stream",
     "text": [
      "enter number: 23575\n"
     ]
    },
    {
     "name": "stdout",
     "output_type": "stream",
     "text": [
      "original number: 23575\n",
      "reverse number 57532\n"
     ]
    }
   ],
   "source": [
    "#list comprahenction for reversing a number\n",
    "n=int(input(\"enter number:\"))\n",
    "print(\"original number:\",n)\n",
    "rnum=int(''.join([str(n)[i] for i in range(len(str(n))-1,-1,-1)]))\n",
    "print(\"reverse number\",rnum)"
   ]
  },
  {
   "cell_type": "code",
   "execution_count": 3,
   "id": "eaae7f06-4d59-41dd-abf2-b959b10ea5cb",
   "metadata": {},
   "outputs": [
    {
     "name": "stdout",
     "output_type": "stream",
     "text": [
      "[1, 2, 3, 4, 5, 6, 7, 8, 9]\n"
     ]
    }
   ],
   "source": [
    "#nested list comprahenctions on 2d matrix to latten\n",
    "matrix = [[1,2,3],[4,5,6],[7,8,9]]\n",
    "flat= [num for row in matrix for num in row]\n",
    "print(flat)"
   ]
  },
  {
   "cell_type": "code",
   "execution_count": 5,
   "id": "fb29f09b-5bc8-487c-a358-f38df40fe4f4",
   "metadata": {},
   "outputs": [
    {
     "name": "stdout",
     "output_type": "stream",
     "text": [
      "[0, 0, 0, 0, 1, 2, 3]\n"
     ]
    }
   ],
   "source": [
    "#list comprahencions logical condions/ replace negative num to zero\n",
    "#using if-else\n",
    "\n",
    "nums=[-1,-8,-7,0,1,2,3]\n",
    "neg = [ x if x>=0 else 0 for x in nums]\n",
    "print(neg)"
   ]
  },
  {
   "cell_type": "code",
   "execution_count": 20,
   "id": "a84a4085-e3d4-425f-a850-45ea37f4e872",
   "metadata": {},
   "outputs": [
    {
     "name": "stdout",
     "output_type": "stream",
     "text": [
      "['u', 'M', 'A']\n"
     ]
    }
   ],
   "source": [
    "# string LC / transulation of string\n",
    "words=['Audi','BMW','TATA']\n",
    "low=[word[1] for word in words]\n",
    "print(low)"
   ]
  },
  {
   "cell_type": "code",
   "execution_count": 24,
   "id": "7d10739e-0053-4aa2-807e-056c98e3f809",
   "metadata": {},
   "outputs": [
    {
     "name": "stdout",
     "output_type": "stream",
     "text": [
      "[4, 3, 4]\n"
     ]
    }
   ],
   "source": [
    "words=['Audi','BMW','TATA']\n",
    "low=[len(word) for word in words]\n",
    "print(low)"
   ]
  },
  {
   "cell_type": "code",
   "execution_count": 32,
   "id": "67195b14-59c4-4b8b-a4bb-a9f3adc41f4c",
   "metadata": {},
   "outputs": [
    {
     "name": "stdout",
     "output_type": "stream",
     "text": [
      "[1, 2, 3, 4, 5, 6, 7]\n"
     ]
    }
   ],
   "source": [
    "#filtering none values in a LC removing all nine in the list\n",
    "items = [1,2,None,3,None,4,None,None,5,6,7]\n",
    "remain = [x for x in items if x is not None]\n",
    "print(remain)"
   ]
  },
  {
   "cell_type": "code",
   "execution_count": 38,
   "id": "62fa7da0-e8db-4c7e-afc4-d9c0412fdee0",
   "metadata": {},
   "outputs": [
    {
     "name": "stdout",
     "output_type": "stream",
     "text": [
      "[('vijay', 6904), ('vijay', 6689), ('will', 6904), ('will', 6689)]\n"
     ]
    }
   ],
   "source": [
    "#tuple pairing using list comprahenction\n",
    "names = ['vijay','will']\n",
    "nums = [6904,6689]\n",
    "pair = [(names,num) for names in names for num in nums]\n",
    "print(pair)"
   ]
  },
  {
   "cell_type": "code",
   "execution_count": 46,
   "id": "11c7888c-27e3-4a73-9b59-cf6fb4948e33",
   "metadata": {},
   "outputs": [
    {
     "name": "stdout",
     "output_type": "stream",
     "text": [
      "['e', 'o', 'u', 'e']\n"
     ]
    }
   ],
   "source": [
    "text = \"Hello Students\"\n",
    "print([i for i in text.lower() if i in 'aeiou'])"
   ]
  },
  {
   "cell_type": "code",
   "execution_count": 52,
   "id": "8c80a568-4ebc-45c4-bd53-57ced6cd5464",
   "metadata": {},
   "outputs": [
    {
     "name": "stdout",
     "output_type": "stream",
     "text": [
      "['h', 'l', 'l', ' ', 's', 't', 'd', 'n', 't', 's']\n"
     ]
    }
   ],
   "source": [
    "text = \"Hello Students\"\n",
    "print([i for i in text.lower() if i not in 'aeiou'])"
   ]
  },
  {
   "cell_type": "code",
   "execution_count": 70,
   "id": "170019c0-6a62-47c5-b32e-40f89b0065ff",
   "metadata": {},
   "outputs": [
    {
     "name": "stdout",
     "output_type": "stream",
     "text": [
      "* * * \n",
      "* * * \n",
      "* * * \n"
     ]
    }
   ],
   "source": [
    "#patterns\n",
    "\n",
    "for i in range(3):\n",
    "    for j in range(3):\n",
    "        print(\"*\",end=\" \")\n",
    "    print()"
   ]
  },
  {
   "cell_type": "code",
   "execution_count": 1,
   "id": "6294fceb-38a1-43fc-bc3d-aa1a55f7882b",
   "metadata": {},
   "outputs": [
    {
     "name": "stdout",
     "output_type": "stream",
     "text": [
      "Enter Num: 4\n"
     ]
    },
    {
     "name": "stdout",
     "output_type": "stream",
     "text": [
      "* * * *  \n",
      "* * * *  \n",
      "* * * *  \n",
      "* * * *  \n"
     ]
    }
   ],
   "source": [
    "n = int(input(\"Enter Num:\"))\n",
    "for i in range(n):\n",
    "    for j in range(n):\n",
    "        print('*', end = \" \")\n",
    "    print(\" \")"
   ]
  },
  {
   "cell_type": "code",
   "execution_count": 3,
   "id": "aca806b5-b252-4ee1-9c2f-c7c976b9316c",
   "metadata": {},
   "outputs": [
    {
     "name": "stdout",
     "output_type": "stream",
     "text": [
      "Enter Num: 4\n"
     ]
    },
    {
     "name": "stdout",
     "output_type": "stream",
     "text": [
      "0 0 0 0  \n",
      "1 1 1 1  \n",
      "2 2 2 2  \n",
      "3 3 3 3  \n"
     ]
    }
   ],
   "source": [
    "n = int(input(\"Enter Num:\"))\n",
    "for i in range(n):\n",
    "    for j in range(n):\n",
    "        print(i, end = \" \")\n",
    "    print(\" \")"
   ]
  },
  {
   "cell_type": "code",
   "execution_count": 5,
   "id": "e4fe40ab-eae5-4d16-a095-35cf79379971",
   "metadata": {},
   "outputs": [
    {
     "name": "stdout",
     "output_type": "stream",
     "text": [
      "Enter Num: 5\n"
     ]
    },
    {
     "name": "stdout",
     "output_type": "stream",
     "text": [
      "0 1 2 3 4  \n",
      "0 1 2 3 4  \n",
      "0 1 2 3 4  \n",
      "0 1 2 3 4  \n",
      "0 1 2 3 4  \n"
     ]
    }
   ],
   "source": [
    "n = int(input(\"Enter Num:\"))\n",
    "for i in range(n):\n",
    "    for j in range(n):\n",
    "        print(j, end = \" \")\n",
    "    print(\" \")"
   ]
  },
  {
   "cell_type": "code",
   "execution_count": 7,
   "id": "fc1c700f-5083-4940-812b-f227148dffd0",
   "metadata": {},
   "outputs": [
    {
     "name": "stdout",
     "output_type": "stream",
     "text": [
      "Enter Num: 5\n"
     ]
    },
    {
     "name": "stdout",
     "output_type": "stream",
     "text": [
      "* * * * *  \n",
      "*       *  \n",
      "*       *  \n",
      "*       *  \n",
      "* * * * *  \n"
     ]
    }
   ],
   "source": [
    "n = int(input(\"Enter Num:\"))\n",
    "for i in range(n):\n",
    "    for j in range(n):\n",
    "        if i==0 or i==n-1 or j==0 or j==n-1:\n",
    "            print(\"*\", end = \" \")\n",
    "        else:\n",
    "            print(\" \", end= \" \")\n",
    "    print(\" \")"
   ]
  },
  {
   "cell_type": "code",
   "execution_count": 11,
   "id": "4b091e82-c71c-4158-88af-ac3e297829f5",
   "metadata": {},
   "outputs": [
    {
     "name": "stdout",
     "output_type": "stream",
     "text": [
      "Enter Num: 7\n"
     ]
    },
    {
     "name": "stdout",
     "output_type": "stream",
     "text": [
      "* * * * * * *  \n",
      "* *         *  \n",
      "*   *       *  \n",
      "*     *     *  \n",
      "*       *   *  \n",
      "*         * *  \n",
      "* * * * * * *  \n"
     ]
    }
   ],
   "source": [
    "n = int(input(\"Enter Num:\"))\n",
    "for i in range(n):\n",
    "    for j in range(n):\n",
    "        if i==0 or i==n-1 or j==0 or j==n-1 or i==j:\n",
    "            print(\"*\", end = \" \")\n",
    "        else:\n",
    "            print(\" \", end= \" \")\n",
    "    print(\" \")"
   ]
  },
  {
   "cell_type": "code",
   "execution_count": 23,
   "id": "5b5a7685-e58e-4e4c-829f-27d34ae161d6",
   "metadata": {},
   "outputs": [
    {
     "name": "stdout",
     "output_type": "stream",
     "text": [
      "Enter Num: 7\n"
     ]
    },
    {
     "name": "stdout",
     "output_type": "stream",
     "text": [
      "* * * * * * *  \n",
      "* *       * *  \n",
      "*   *   *   *  \n",
      "*     *     *  \n",
      "*   *   *   *  \n",
      "* *       * *  \n",
      "* * * * * * *  \n"
     ]
    }
   ],
   "source": [
    "n = int(input(\"Enter Num:\"))\n",
    "for i in range(n):\n",
    "    for j in range(n):\n",
    "        if i==0 or i==n-1 or j==0 or j==n-1 or i==j or (i+j)==n-1:\n",
    "            print(\"*\", end = \" \")\n",
    "        else:\n",
    "            print(\" \", end= \" \")\n",
    "    print(\" \")"
   ]
  },
  {
   "cell_type": "code",
   "execution_count": 25,
   "id": "0b145911-d1b5-4fcc-8a92-17a75cfeaa19",
   "metadata": {},
   "outputs": [
    {
     "name": "stdout",
     "output_type": "stream",
     "text": [
      "Enter Num: 7\n"
     ]
    },
    {
     "name": "stdout",
     "output_type": "stream",
     "text": [
      "* * * * * * *  \n",
      "  *       *    \n",
      "    *   *      \n",
      "      *        \n",
      "    *   *      \n",
      "  *       *    \n",
      "* * * * * * *  \n"
     ]
    }
   ],
   "source": [
    "n = int(input(\"Enter Num:\"))\n",
    "for i in range(n):\n",
    "    for j in range(n):\n",
    "        if i==0 or i==n-1 or i==j or (i+j)==n-1:\n",
    "            print(\"*\", end = \" \")\n",
    "        else:\n",
    "            print(\" \", end= \" \")\n",
    "    print(\" \")"
   ]
  },
  {
   "cell_type": "code",
   "execution_count": 27,
   "id": "f0c4d8f5-1797-4db4-8981-e13b922f592a",
   "metadata": {},
   "outputs": [
    {
     "name": "stdout",
     "output_type": "stream",
     "text": [
      "Enter Num: 7\n"
     ]
    },
    {
     "name": "stdout",
     "output_type": "stream",
     "text": [
      "*           *  \n",
      "* *       * *  \n",
      "*   *   *   *  \n",
      "*     *     *  \n",
      "*   *   *   *  \n",
      "* *       * *  \n",
      "*           *  \n"
     ]
    }
   ],
   "source": [
    "n = int(input(\"Enter Num:\"))\n",
    "for i in range(n):\n",
    "    for j in range(n):\n",
    "        if  j==0 or j==n-1 or i==j or (i+j)==n-1:\n",
    "            print(\"*\", end = \" \")\n",
    "        else:\n",
    "            print(\" \", end= \" \")\n",
    "    print(\" \")"
   ]
  },
  {
   "cell_type": "code",
   "execution_count": 33,
   "id": "88220ab8-94da-45a1-a09a-4b2d9903de6e",
   "metadata": {},
   "outputs": [
    {
     "name": "stdout",
     "output_type": "stream",
     "text": [
      "Enter Num: 8\n"
     ]
    },
    {
     "name": "stdout",
     "output_type": "stream",
     "text": [
      "*             *  \n",
      "  *         *    \n",
      "    *     *      \n",
      "      * *        \n",
      "      * *        \n",
      "    *     *      \n",
      "  *         *    \n",
      "*             *  \n"
     ]
    }
   ],
   "source": [
    "n = int(input(\"Enter Num:\"))\n",
    "for i in range(n):\n",
    "    for j in range(n):\n",
    "        if i==j or (i+j)==n-1:\n",
    "            print(\"*\", end = \" \")\n",
    "        else:\n",
    "            print(\" \", end= \" \")\n",
    "    print(\" \")"
   ]
  },
  {
   "cell_type": "code",
   "execution_count": 37,
   "id": "ef9488d6-e29d-4da0-9b13-5ee03b0b0a76",
   "metadata": {},
   "outputs": [
    {
     "name": "stdout",
     "output_type": "stream",
     "text": [
      "Enter Num: 7\n"
     ]
    },
    {
     "name": "stdout",
     "output_type": "stream",
     "text": [
      "*              \n",
      "* *            \n",
      "*   *          \n",
      "*     *        \n",
      "*       *      \n",
      "*         *    \n",
      "* * * * * * *  \n"
     ]
    }
   ],
   "source": [
    "n = int(input(\"Enter Num:\"))\n",
    "for i in range(n):\n",
    "    for j in range(n):\n",
    "        if i==j or i==n-1 or j==0:\n",
    "            print(\"*\", end = \" \")\n",
    "        else:\n",
    "            print(\" \", end= \" \")\n",
    "    print(\" \")"
   ]
  },
  {
   "cell_type": "code",
   "execution_count": 1,
   "id": "5d82ab19-35ca-47ac-92f1-f01a9f577a3e",
   "metadata": {
    "scrolled": true
   },
   "outputs": [
    {
     "name": "stdout",
     "output_type": "stream",
     "text": [
      "      *\n",
      "     ***\n",
      "    *****\n",
      "   *******\n",
      "  *********\n",
      " ***********\n",
      "*************\n",
      " ***********\n",
      "  *********\n",
      "   *******\n",
      "    *****\n",
      "     ***\n",
      "      *\n"
     ]
    }
   ],
   "source": [
    "n=7\n",
    "upper = [\" \" *(n-i-1)+ \"*\" * (2*i+1) for i in range(n)]\n",
    "lower = [\" \" *(i+1)+ \"*\" *(2*(n-i-2) +1) for i in range(n-1)]\n",
    "for line in upper+lower:\n",
    "    print(line)"
   ]
  },
  {
   "cell_type": "code",
   "execution_count": 17,
   "id": "e6304820-22be-49d9-a3e2-4a433eb96531",
   "metadata": {},
   "outputs": [
    {
     "name": "stdout",
     "output_type": "stream",
     "text": [
      "enter number: 5\n"
     ]
    },
    {
     "name": "stdout",
     "output_type": "stream",
     "text": [
      "    *\n",
      "   ***\n",
      "  *****\n",
      " *******\n",
      "*********\n",
      " *******\n",
      "  *****\n",
      "   ***\n",
      "    *\n"
     ]
    }
   ],
   "source": [
    "n=int(input(\"enter number:\"))\n",
    "for i in range(n):\n",
    "    space = \" \" *(n-i-1)\n",
    "    star = \"*\" *(2*i+1)\n",
    "    print(space+star)\n",
    "for i in range(n-1):\n",
    "    space = \" \" *(i+1)\n",
    "    star = \"*\" *(2*(n-i-2)+1)\n",
    "    print(space+star)\n",
    "      "
   ]
  },
  {
   "cell_type": "code",
   "execution_count": 82,
   "id": "e761542b-223f-4930-a8d5-811e794c68d7",
   "metadata": {},
   "outputs": [
    {
     "name": "stdout",
     "output_type": "stream",
     "text": [
      "1 \n",
      "2 3 \n",
      "4 5 6 \n",
      "7 8 9 10 \n"
     ]
    }
   ],
   "source": [
    "\n",
    "#nexted loops\n",
    "n = 1\n",
    "r=4\n",
    "for i in range(1,r+1):\n",
    "    for j in range(1,i+1):\n",
    "        print(n, end=\" \")\n",
    "        n+=1\n",
    "    print()"
   ]
  },
  {
   "cell_type": "code",
   "execution_count": 3,
   "id": "cc1e1d0a-9938-42bc-9de0-b54564a0b93f",
   "metadata": {},
   "outputs": [
    {
     "name": "stdout",
     "output_type": "stream",
     "text": [
      "23\n"
     ]
    }
   ],
   "source": [
    "# arguments pass with return value\n",
    "def add(a,b):\n",
    "    return a+b\n",
    "    \n",
    "result = add(11,12)\n",
    "print(result)\n"
   ]
  },
  {
   "cell_type": "code",
   "execution_count": 5,
   "id": "54f20f0e-ec84-4c20-81db-ab48f14d24e6",
   "metadata": {},
   "outputs": [
    {
     "name": "stdout",
     "output_type": "stream",
     "text": [
      "good morning student\n"
     ]
    }
   ],
   "source": [
    "#argument pass no return value\n",
    "def hi(name):\n",
    "    print(\"good morning\",name)\n",
    "hi(\"student\")"
   ]
  },
  {
   "cell_type": "code",
   "execution_count": 13,
   "id": "da9d2eed-ec0d-4f63-a78a-9427ac77a4a1",
   "metadata": {},
   "outputs": [
    {
     "name": "stdout",
     "output_type": "stream",
     "text": [
      "kabaddi\n"
     ]
    }
   ],
   "source": [
    "#no argument with return value\n",
    "def hi():\n",
    "    return \"kabaddi\"\n",
    "text=hi()\n",
    "print(text)"
   ]
  },
  {
   "cell_type": "code",
   "execution_count": 17,
   "id": "87b058e0-c625-490e-9063-5d56dc9745ea",
   "metadata": {},
   "outputs": [
    {
     "name": "stdout",
     "output_type": "stream",
     "text": [
      "kabaddi\n"
     ]
    }
   ],
   "source": [
    "#no argument no return \n",
    "def hi():\n",
    "    print(\"kabaddi\")\n",
    "hi()"
   ]
  },
  {
   "cell_type": "code",
   "execution_count": 23,
   "id": "6d1fb0f7-85a1-4cb5-921b-db717666d8a2",
   "metadata": {},
   "outputs": [
    {
     "name": "stdout",
     "output_type": "stream",
     "text": [
      "barath, India!!!!\n"
     ]
    }
   ],
   "source": [
    "def hi(text):\n",
    "    return f\"barath, {text}!!!!\"\n",
    "print(hi(\"India\"))"
   ]
  },
  {
   "cell_type": "code",
   "execution_count": null,
   "id": "9f317586-ff85-4ecb-857f-e09a121191ec",
   "metadata": {},
   "outputs": [],
   "source": []
  },
  {
   "cell_type": "code",
   "execution_count": 30,
   "id": "0506713b-7670-4fcc-8700-8ce450a25ff4",
   "metadata": {},
   "outputs": [
    {
     "data": {
      "text/plain": [
       "10"
      ]
     },
     "execution_count": 30,
     "metadata": {},
     "output_type": "execute_result"
    }
   ],
   "source": [
    "#functions with default args\n",
    "\n",
    "def result(a,b):\n",
    "    return a*b\n",
    "#result(5)\n",
    "result(5,2)"
   ]
  },
  {
   "cell_type": "code",
   "execution_count": 34,
   "id": "b9de4550-64b6-472c-899a-715432ff59d1",
   "metadata": {},
   "outputs": [
    {
     "data": {
      "text/plain": [
       "10"
      ]
     },
     "execution_count": 34,
     "metadata": {},
     "output_type": "execute_result"
    }
   ],
   "source": [
    "\n",
    "def result(a,b=2):\n",
    "    return a*b\n",
    "result(5)"
   ]
  },
  {
   "cell_type": "code",
   "execution_count": 36,
   "id": "77a0c450-7d1a-43f8-bff1-b33a540b9a65",
   "metadata": {},
   "outputs": [
    {
     "data": {
      "text/plain": [
       "12"
      ]
     },
     "execution_count": 36,
     "metadata": {},
     "output_type": "execute_result"
    }
   ],
   "source": [
    "\n",
    "def result(a,b):\n",
    "    return a*b\n",
    "result(b=4,a=3)"
   ]
  },
  {
   "cell_type": "code",
   "execution_count": 38,
   "id": "24eb7457-8cf5-45b1-9973-ce2de5a30ed4",
   "metadata": {},
   "outputs": [
    {
     "data": {
      "text/plain": [
       "6"
      ]
     },
     "execution_count": 38,
     "metadata": {},
     "output_type": "execute_result"
    }
   ],
   "source": [
    "def result(a=3,b=2):\n",
    "    return a*b\n",
    "result()"
   ]
  },
  {
   "cell_type": "code",
   "execution_count": 44,
   "id": "c34055f8-fcef-443c-b610-93013be713c0",
   "metadata": {},
   "outputs": [
    {
     "name": "stdout",
     "output_type": "stream",
     "text": [
      "15\n",
      "165\n"
     ]
    }
   ],
   "source": [
    "# function with variable args -- (*args)\n",
    "def total(*args):\n",
    "    return sum(args)\n",
    "print(total(1,2,3,4,5))\n",
    "print(total(11,22,33,44,55))"
   ]
  },
  {
   "cell_type": "code",
   "execution_count": 52,
   "id": "08b9e261-c447-4cf3-a7f1-7e90eec389f9",
   "metadata": {},
   "outputs": [
    {
     "name": "stdout",
     "output_type": "stream",
     "text": [
      "name:keerthi\n",
      "height:5.4\n",
      "city:MYM\n"
     ]
    }
   ],
   "source": [
    "# function with keyword args -- (*kwargs)\n",
    "def info(**kwargs):\n",
    "    for key , value in kwargs.items():\n",
    "        print(f\"{key}:{value}\")\n",
    "info(name='keerthi', height=5.4, city='MYM')"
   ]
  },
  {
   "cell_type": "code",
   "execution_count": null,
   "id": "e7fe3ae4-0839-4f30-b8c1-3d2cd4d1746e",
   "metadata": {},
   "outputs": [],
   "source": []
  },
  {
   "cell_type": "code",
   "execution_count": 67,
   "id": "3a291e04-4a69-4577-992e-5a4d6753730e",
   "metadata": {},
   "outputs": [
    {
     "name": "stdout",
     "output_type": "stream",
     "text": [
      " MINIMUM:1, MAXIMUM:5,AVERAGE:3.0\n"
     ]
    }
   ],
   "source": [
    "''' write a program to take A list in to consideratio [1,2,3,4,5]. pass the list as arguments and return the minimum , maximum and average of these values from a single funcion\n",
    "output:- minimum:1, maximum:5, average:3.0'''\n",
    "\n",
    "def values(n):\n",
    "    return min(n), max(n), sum(n)/len(n)\n",
    "min_val,max_val,avg=values([1,2,3,4,5])\n",
    "print(f\" MINIMUM:{min_val}, MAXIMUM:{max_val},AVERAGE:{avg}\")\n"
   ]
  },
  {
   "cell_type": "code",
   "execution_count": 75,
   "id": "8ae99e25-16a2-4606-ae8e-fe186aa60826",
   "metadata": {},
   "outputs": [
    {
     "name": "stdout",
     "output_type": "stream",
     "text": [
      "16\n",
      "1.0\n"
     ]
    }
   ],
   "source": [
    "#lambda function\n",
    "square=lambda x:x*x\n",
    "print(square(4))\n",
    "add=lambda a,b,c:(a+b)/c\n",
    "print(add(1,3,4))"
   ]
  },
  {
   "cell_type": "code",
   "execution_count": 77,
   "id": "4ac3663c-3a3d-455d-a1eb-aa4c3019af38",
   "metadata": {},
   "outputs": [
    {
     "name": "stdout",
     "output_type": "stream",
     "text": [
      "120\n"
     ]
    }
   ],
   "source": [
    "#direct recursion\n",
    "def fact(n):\n",
    "    if n==0 or n==1:\n",
    "        return 1\n",
    "    return n*fact(n-1)\n",
    "print(fact(5))"
   ]
  },
  {
   "cell_type": "code",
   "execution_count": 92,
   "id": "7df1d68b-feb2-4e04-8744-f6c781420786",
   "metadata": {},
   "outputs": [
    {
     "name": "stdout",
     "output_type": "stream",
     "text": [
      "24\n",
      "288\n"
     ]
    }
   ],
   "source": [
    "#super factorial--- factorial of the factorial\n",
    "def sup_fact(n):\n",
    "    if n<=1:\n",
    "        return 1        \n",
    "    return fact(n)*sup_fact(n-1)\n",
    "def fact(n):\n",
    "    if n<=1:\n",
    "        return 1\n",
    "    return n*fact(n-1)\n",
    "print(fact(4))\n",
    "\n",
    "print(sup_fact(4))"
   ]
  },
  {
   "cell_type": "code",
   "execution_count": null,
   "id": "2e0f86bd-2b54-445d-bdf2-12cffb625c2e",
   "metadata": {},
   "outputs": [],
   "source": [
    "#power tower\n",
    "def pt(a,n):\n",
    "    if n==1:\n",
    "        return a\n",
    "    return a**pt(a,n-1)\n",
    "print(pt(3,4))"
   ]
  }
 ],
 "metadata": {
  "kernelspec": {
   "display_name": "Python 3",
   "language": "python",
   "name": "python3"
  },
  "language_info": {
   "codemirror_mode": {
    "name": "ipython",
    "version": 3
   },
   "file_extension": ".py",
   "mimetype": "text/x-python",
   "name": "python",
   "nbconvert_exporter": "python",
   "pygments_lexer": "ipython3",
   "version": "3.11.5"
  }
 },
 "nbformat": 4,
 "nbformat_minor": 5
}
