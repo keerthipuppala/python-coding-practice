{
 "cells": [
  {
   "cell_type": "code",
   "execution_count": 15,
   "id": "8b47049f-e550-474a-895c-4a9a8fa6f82e",
   "metadata": {},
   "outputs": [
    {
     "name": "stdout",
     "output_type": "stream",
     "text": [
      "Base class-3\n",
      "Base class-2\n",
      "Base class-1\n",
      "Derived class\n"
     ]
    }
   ],
   "source": [
    "#Inheritance multiple\n",
    "#crete a super class from a constructor and call the base class\n",
    "class base1:\n",
    "    def __init__(self):\n",
    "        super(base1,self).__init__()\n",
    "        print(\"Base class-1\")\n",
    "class base2:\n",
    "    def __init__(self):\n",
    "        super(base2,self).__init__()\n",
    "        print(\"Base class-2\")\n",
    "class base3:\n",
    "    def __init__(self):\n",
    "        #super(base3,self).__init__()\n",
    "        print(\"Base class-3\")\n",
    "class derived(base1,base2, base3):\n",
    "    def __init__(self):\n",
    "        super(derived,self).__init__()\n",
    "        print(\"Derived class\")\n",
    "d=derived()\n",
    "    "
   ]
  },
  {
   "cell_type": "code",
   "execution_count": 11,
   "id": "1156c9e8-acb7-41c6-978f-3d17ece828cb",
   "metadata": {},
   "outputs": [
    {
     "name": "stdin",
     "output_type": "stream",
     "text": [
      "enter the value of 1: 10\n",
      "enter the value of 2: 5\n"
     ]
    },
    {
     "name": "stdout",
     "output_type": "stream",
     "text": [
      "Addition: 15\n",
      "Addition: 5\n",
      "Addition: 50\n"
     ]
    }
   ],
   "source": [
    "''' code to inherit add() from addition base and subfunction from subtract base and \n",
    "create a own multiply method in derived class of calc \n",
    "pass the values from the class to the inheritance multiplly\n",
    "num1=10\n",
    "num2=5\n",
    "output:\n",
    "addition:15\n",
    "subtraction:5\n",
    "product:50'''\n",
    "\n",
    "class addition:\n",
    "    def add(self,a,b):\n",
    "        return a+b\n",
    "class subtract:\n",
    "    def sub(self,a,b):\n",
    "        return a-b\n",
    "class calc(addition, subtract):\n",
    "    def product(self,a,b):\n",
    "        return a*b\n",
    "c=calc()\n",
    "n1=int(input(\"enter the value of 1:\"))\n",
    "n2=int(input(\"enter the value of 2:\"))       \n",
    "print(\"Addition:\",c.add(n1,n2))   \n",
    "print(\"Addition:\",c.sub(n1,n2))\n",
    "print(\"Addition:\",c.product(n1,n2))"
   ]
  },
  {
   "cell_type": "code",
   "execution_count": 40,
   "id": "16601f86-f189-4eaf-8714-fd1528f1b2a1",
   "metadata": {},
   "outputs": [
    {
     "name": "stdin",
     "output_type": "stream",
     "text": [
      "enter the value : 5\n"
     ]
    },
    {
     "name": "stdout",
     "output_type": "stream",
     "text": [
      "square: 25\n",
      "cube: 125\n"
     ]
    }
   ],
   "source": [
    "'''import math for calculating square, cube, by multiplating inheritance and summate the output toget the result\n",
    "'''\n",
    "import math\n",
    "class square:\n",
    "    def sqr(self,a):\n",
    "        r1=a*a\n",
    "        return r1\n",
    "class cube:\n",
    "    def cub(self,a):\n",
    "        r2=a*a*a\n",
    "        return r2\n",
    "class sum(square,cube):\n",
    "    def addition(self,a):\n",
    "        return r1+r2\n",
    "s=sum()\n",
    "n=int(input(\"enter the value :\"))       \n",
    "print(\"square:\",s.sqr(n))\n",
    "print(\"cube:\",s.cub(n))\n"
   ]
  },
  {
   "cell_type": "code",
   "execution_count": 50,
   "id": "60d89e21-9c58-4f0d-b84e-c1fe1a197a5d",
   "metadata": {},
   "outputs": [
    {
     "name": "stdout",
     "output_type": "stream",
     "text": [
      "one\n",
      "two\n",
      "three\n"
     ]
    }
   ],
   "source": [
    "class levels:    #base class\n",
    "    def name(self):\n",
    "        print(\"one\")\n",
    "class step(levels):    #class derives from levels\n",
    "    def help(self):\n",
    "        print(\"two\")\n",
    "class run(step):\n",
    "    def take(self):\n",
    "        print(\"three\")\n",
    "a=run()\n",
    "a.name()\n",
    "a.help()\n",
    "a.take()"
   ]
  },
  {
   "cell_type": "code",
   "execution_count": 60,
   "id": "e16ec9c9-7b73-428d-9192-4542f5aa953a",
   "metadata": {},
   "outputs": [
    {
     "name": "stdin",
     "output_type": "stream",
     "text": [
      "enter the number: 5\n"
     ]
    },
    {
     "name": "stdout",
     "output_type": "stream",
     "text": [
      "Number: 5\n",
      "Square: 25\n",
      "Cube: 125\n",
      "Addition of square and cube: 150\n"
     ]
    }
   ],
   "source": [
    "#multi level inheritance\n",
    "class Square:\n",
    "    def square(self,num):\n",
    "        return num**2\n",
    "class Cube(Square):\n",
    "    def cube(self,num):\n",
    "        return num**3\n",
    "class Total(Cube):\n",
    "    def total(self,num):\n",
    "        sq=self.square(num)\n",
    "        cu=self.cube(num)\n",
    "        return sq+cu\n",
    "calc=Total()\n",
    "n=int(input(\"enter the number:\"))\n",
    "print(\"Number:\",n)\n",
    "print(\"Square:\",calc.square(n))\n",
    "print(\"Cube:\",calc.cube(n))\n",
    "print(\"Addition of square and cube:\",calc.total(n))\n",
    "    \n"
   ]
  },
  {
   "cell_type": "code",
   "execution_count": null,
   "id": "09998d0d-9b5c-468c-92e0-866b0a2a12fe",
   "metadata": {},
   "outputs": [],
   "source": []
  }
 ],
 "metadata": {
  "kernelspec": {
   "display_name": "Python 3 (ipykernel)",
   "language": "python",
   "name": "python3"
  },
  "language_info": {
   "codemirror_mode": {
    "name": "ipython",
    "version": 3
   },
   "file_extension": ".py",
   "mimetype": "text/x-python",
   "name": "python",
   "nbconvert_exporter": "python",
   "pygments_lexer": "ipython3",
   "version": "3.12.7"
  }
 },
 "nbformat": 4,
 "nbformat_minor": 5
}
