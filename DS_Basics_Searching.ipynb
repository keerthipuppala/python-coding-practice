{
 "cells": [
  {
   "cell_type": "raw",
   "id": "250be8ed-b255-495e-b6c4-7dae7e7ae522",
   "metadata": {},
   "source": [
    "#DATS STRUCTURES"
   ]
  },
  {
   "cell_type": "code",
   "execution_count": 33,
   "id": "13606e44-5196-4abd-9e7c-986dc5f9bd2b",
   "metadata": {},
   "outputs": [
    {
     "name": "stdout",
     "output_type": "stream",
     "text": [
      "After insertion the arr value are:\n",
      " [10, 20, 25, 30, 40, 50]\n",
      "10 20 25 30 40 50 \n",
      "After deletion the arr values are:\n",
      " [10, 20, 25, 40]\n",
      "traversed elements are:\n",
      "10 20 25 40 \n",
      " 25 in array?  True\n"
     ]
    }
   ],
   "source": [
    "arr = [10,20,30,40]\n",
    "#insert\n",
    "arr.append(50)\n",
    "arr.insert(2,25)\n",
    "print(\"After insertion the arr value are:\\n\",arr)\n",
    "for i in arr:\n",
    "    print(i, end = ' ')\n",
    "#Deletion\n",
    "arr.remove(30)\n",
    "arr.pop()\n",
    "print(\"\\nAfter deletion the arr values are:\\n\",arr)\n",
    "#traversal\n",
    "print(\"traversed elements are:\")\n",
    "for i in arr:\n",
    "    print(i, end = ' ')\n",
    "\n",
    "#searching\n",
    "print(\"\\n 25 in array? \" , 25 in arr)"
   ]
  },
  {
   "cell_type": "code",
   "execution_count": 10,
   "id": "5511ed35-f0a5-496c-aad5-fbc6bee6d639",
   "metadata": {},
   "outputs": [
    {
     "name": "stdin",
     "output_type": "stream",
     "text": [
      "Enter a name : madam\n"
     ]
    },
    {
     "name": "stdout",
     "output_type": "stream",
     "text": [
      "palindrome\n",
      "{'m': 2, 'a': 2, 'd': 1}\n"
     ]
    }
   ],
   "source": [
    "''' program to check whether the given string is palindrome or not and count the palandromic characters which are repeated \n",
    "str = madam\n",
    "output = {'m':2,'a':2, 'd':1}\n",
    "str = malayalam '''\n",
    "text = input(\"Enter a name :\")\n",
    "if text ==text[::-1]:\n",
    "    print(\"palindrome\")\n",
    "else:\n",
    "    print(\"Not Palindrome\")\n",
    "freq = {}\n",
    "for ch in text:\n",
    "    freq[ch]=freq.get(ch,0)+1\n",
    "print(freq)\n",
    "    "
   ]
  },
  {
   "cell_type": "code",
   "execution_count": 22,
   "id": "24d6b4ed-8a3d-4973-b6ab-f1f31bcb38d6",
   "metadata": {},
   "outputs": [
    {
     "name": "stdin",
     "output_type": "stream",
     "text": [
      "Enter a name : keerthi\n"
     ]
    },
    {
     "name": "stdout",
     "output_type": "stream",
     "text": [
      "Not Palindrome\n",
      "{'k': 1, 'e': 2, 'r': 1, 't': 1, 'h': 1, 'i': 1}\n"
     ]
    }
   ],
   "source": [
    "#frequency for not palindrome number\n",
    "text = input(\"Enter a name :\")\n",
    "if text ==text[::-1]:\n",
    "    print(\"palindrome\")\n",
    "else:\n",
    "    print(\"Not Palindrome\")\n",
    "freq = {}\n",
    "for ch in text:\n",
    "    freq[ch]=freq.get(ch,0)+1\n",
    "print(freq)\n",
    "    "
   ]
  },
  {
   "cell_type": "code",
   "execution_count": 20,
   "id": "73267988-1dac-48b7-b2f9-5a703ef1074e",
   "metadata": {},
   "outputs": [
    {
     "name": "stdin",
     "output_type": "stream",
     "text": [
      "Enter the string: malayalam\n"
     ]
    },
    {
     "name": "stdout",
     "output_type": "stream",
     "text": [
      "malayalam is palindrome\n",
      "Character Count is: {'m': 2, 'a': 4, 'l': 2, 'y': 1}\n"
     ]
    }
   ],
   "source": [
    "#Base method for palindrome count\n",
    "text = input(\"Enter the string:\")\n",
    "if text==text[::-1]:\n",
    "    print(f\"{text} is palindrome\")\n",
    "    character_count={}\n",
    "    for ch in text:\n",
    "        if ch in character_count:\n",
    "            character_count[ch]+=1\n",
    "        else:\n",
    "            character_count[ch]=1\n",
    "    print(\"Character Count is:\", character_count)\n",
    "else:\n",
    "    print(f\"{text} is not palindrome\")"
   ]
  },
  {
   "cell_type": "code",
   "execution_count": null,
   "id": "9c0b7cb1-31ee-4e4f-856d-6e43ad9f76a6",
   "metadata": {},
   "outputs": [],
   "source": [
    "'''\n",
    "#SEARCHING TECHNOQUES\n",
    "1. LINEAR\n",
    "2. BINARY\n",
    "3. sentinel search \n",
    "4. fibonacci serach \n",
    "5. interpolation search\n",
    "'''\n",
    "'''\n",
    "WORKING ALGORITHM FOR LINEAR SEARCH PROCESS\n",
    "1. arr of list of size n\n",
    "2. key for search element\n",
    "3. start with zero index\n",
    "4. compare arr[i] == key\n",
    "            arr[i]= key return index\n",
    "        else not(move to next index)\n",
    "5. repeat same steps till n-1\n",
    "6. if no match return -1\n",
    "'''"
   ]
  },
  {
   "cell_type": "code",
   "execution_count": 7,
   "id": "c2544e01-f623-429a-aee3-2530283e3dc9",
   "metadata": {},
   "outputs": [
    {
     "name": "stdin",
     "output_type": "stream",
     "text": [
      "enter the size of the array: 5\n"
     ]
    },
    {
     "name": "stdout",
     "output_type": "stream",
     "text": [
      "Enter the elements:\n"
     ]
    },
    {
     "name": "stdin",
     "output_type": "stream",
     "text": [
      "Elements 1: 22\n",
      "Elements 2: 45\n",
      "Elements 3: 34\n",
      "Elements 4: 23\n",
      "Elements 5: 67\n",
      "enetr the element to search: 23\n"
     ]
    },
    {
     "name": "stdout",
     "output_type": "stream",
     "text": [
      "\n",
      " Element 23 found at 3\n"
     ]
    }
   ],
   "source": [
    "def linear_search(arr,key):\n",
    "    for i in range(len(arr)):\n",
    "        if arr[i]==key:\n",
    "            return i\n",
    "    return -1\n",
    "size = int(input(\"enter the size of the array:\"))\n",
    "arr=[]\n",
    "print(\"Enter the elements:\")\n",
    "for i in range(size):\n",
    "    num = int(input(f\"Elements {i+1}:\"))\n",
    "    arr.append(num)\n",
    "key = int(input(\"enetr the element to search:\"))\n",
    "result = linear_search(arr,key)\n",
    "if result!= -1:\n",
    "    print(f\"\\n Element {key} found at {result}\")\n",
    "else:\n",
    "    print(f\"\\n Element {key} not found at {result}\")"
   ]
  },
  {
   "cell_type": "code",
   "execution_count": 1,
   "id": "693cb6f8-7057-4ee5-a7ef-12c8fc1a6267",
   "metadata": {},
   "outputs": [
    {
     "name": "stdin",
     "output_type": "stream",
     "text": [
      "enter the size of the array: 5\n"
     ]
    },
    {
     "name": "stdout",
     "output_type": "stream",
     "text": [
      "Enter the elements:\n"
     ]
    },
    {
     "name": "stdin",
     "output_type": "stream",
     "text": [
      "Elements 1: 23\n",
      "Elements 2: 3 \n",
      "Elements 3: 4\n",
      "Elements 4: 5\n",
      "Elements 5: 6\n",
      "enetr the element to search: 11\n"
     ]
    },
    {
     "name": "stdout",
     "output_type": "stream",
     "text": [
      "\n",
      " Element 11 not found at -1\n"
     ]
    }
   ],
   "source": [
    "def linear_search(arr,key):\n",
    "    for i in range(len(arr)):\n",
    "        if arr[i]==key:\n",
    "            return i\n",
    "    return -1\n",
    "size = int(input(\"enter the size of the array:\"))\n",
    "arr=[]\n",
    "print(\"Enter the elements:\")\n",
    "for i in range(size):\n",
    "    num = int(input(f\"Elements {i+1}:\"))\n",
    "    arr.append(num)\n",
    "key = int(input(\"enetr the element to search:\"))\n",
    "result = linear_search(arr,key)\n",
    "if result!= -1:\n",
    "    print(f\"\\n Element {key} found at {result}\")\n",
    "else:\n",
    "    print(f\"\\n Element {key} not found at {result}\")"
   ]
  },
  {
   "cell_type": "code",
   "execution_count": 12,
   "id": "56033bea-ed3a-428c-8d06-3d1b362fd6c8",
   "metadata": {},
   "outputs": [
    {
     "data": {
      "text/plain": [
       "'\\nBINARY SEARCH\\nSE LOW & HIGH 0 -> N-1\\nCONDITION LOW<= HIGH\\nmid = low+high//2\\narr[mid] == key return mid\\narr[mid] < key low mid+\\narr[mid] > key low mid-1\\nnot found return -1\\n'"
      ]
     },
     "execution_count": 12,
     "metadata": {},
     "output_type": "execute_result"
    }
   ],
   "source": [
    "'''\n",
    "BINARY SEARCH\n",
    "Set LOW & HIGH 0 -> N-1\n",
    "condition LOW<= HIGH\n",
    "mid = low+high//2\n",
    "arr[mid] == key return mid\n",
    "arr[mid] < key low mid+\n",
    "arr[mid] > key low mid-1\n",
    "not found return -1\n",
    "'''"
   ]
  },
  {
   "cell_type": "code",
   "execution_count": 14,
   "id": "84a162b9-c860-48b4-a637-88657abc4970",
   "metadata": {},
   "outputs": [
    {
     "name": "stdin",
     "output_type": "stream",
     "text": [
      "enter the size of the array: 5\n"
     ]
    },
    {
     "name": "stdout",
     "output_type": "stream",
     "text": [
      "Enter the elements:\n"
     ]
    },
    {
     "name": "stdin",
     "output_type": "stream",
     "text": [
      "Elements 1: 23\n",
      "Elements 2: 34\n",
      "Elements 3: 45\n",
      "Elements 4: 56\n",
      "Elements 5: 67\n",
      "enetr the element to search: 45\n"
     ]
    },
    {
     "name": "stdout",
     "output_type": "stream",
     "text": [
      "\n",
      " Element 45 found at 2\n"
     ]
    }
   ],
   "source": [
    "def binary_search(arr,key):\n",
    "    low=0\n",
    "    high = len(arr)-1\n",
    "    while low<=high:\n",
    "        mid = (low+high)//2\n",
    "        if arr[mid]==key:\n",
    "            return mid\n",
    "        elif arr[mid]<key:\n",
    "            low=mid+1\n",
    "        else:\n",
    "            high=mid-1\n",
    "    return -1\n",
    "size = int(input(\"enter the size of the array:\"))\n",
    "arr=[]\n",
    "print(\"Enter the elements:\")\n",
    "for i in range(size):\n",
    "    num = int(input(f\"Elements {i+1}:\"))\n",
    "    arr.append(num)\n",
    "key = int(input(\"enetr the element to search:\"))\n",
    "result = binary_search(arr,key)\n",
    "if result!= -1:\n",
    "    print(f\"\\n Element {key} found at {result}\")\n",
    "else:\n",
    "    print(f\"\\n Element {key} not found at {result}\")"
   ]
  },
  {
   "cell_type": "code",
   "execution_count": null,
   "id": "afacec03-615c-4721-b342-aaa409b2cdd8",
   "metadata": {},
   "outputs": [],
   "source": []
  }
 ],
 "metadata": {
  "kernelspec": {
   "display_name": "Python 3 (ipykernel)",
   "language": "python",
   "name": "python3"
  },
  "language_info": {
   "codemirror_mode": {
    "name": "ipython",
    "version": 3
   },
   "file_extension": ".py",
   "mimetype": "text/x-python",
   "name": "python",
   "nbconvert_exporter": "python",
   "pygments_lexer": "ipython3",
   "version": "3.12.7"
  }
 },
 "nbformat": 4,
 "nbformat_minor": 5
}
