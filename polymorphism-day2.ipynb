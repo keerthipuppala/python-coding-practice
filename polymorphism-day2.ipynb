{
 "cells": [
  {
   "cell_type": "code",
   "execution_count": 11,
   "id": "105bd816-4767-4758-ac38-9d041e44a4d0",
   "metadata": {},
   "outputs": [
    {
     "name": "stdout",
     "output_type": "stream",
     "text": [
      "Vehicle is starting\n",
      "car is starting with a key\n",
      "Bike is starting with a button\n"
     ]
    }
   ],
   "source": [
    "# over-riding method in a sub class\n",
    "class vehicle:\n",
    "    def start(self):\n",
    "        print(\"Vehicle is starting\")\n",
    "class car(vehicle):\n",
    "    def start(self):\n",
    "        print(\"car is starting with a key\")\n",
    "class bike(vehicle):\n",
    "    def start(self):\n",
    "        print(\"Bike is starting with a button\")\n",
    "v=vehicle()\n",
    "c=car()\n",
    "b=bike()\n",
    "v.start()\n",
    "c.start()\n",
    "b.start()"
   ]
  },
  {
   "cell_type": "code",
   "execution_count": 21,
   "id": "61dc6535-9a2a-466d-9d05-84671678dd1d",
   "metadata": {},
   "outputs": [
    {
     "name": "stdout",
     "output_type": "stream",
     "text": [
      "calculating \n",
      "Deploy the area of cirle\n"
     ]
    }
   ],
   "source": [
    "''' over-riding , calling superlass attributes program to caliculate the area of the circle \n",
    "by method overriding by calling the superclass functio.'''\n",
    "class shape:\n",
    "    def area(self):\n",
    "        print(\"Deploy the area of cirle\")\n",
    "class circle(shape):\n",
    "    def area(self):\n",
    "        print(\"calculating \")\n",
    "        super().area()\n",
    "c=circle()\n",
    "c.area()"
   ]
  },
  {
   "cell_type": "code",
   "execution_count": 37,
   "id": "6f4104a7-2fed-4565-ac68-b74dba1520d4",
   "metadata": {},
   "outputs": [
    {
     "name": "stdout",
     "output_type": "stream",
     "text": [
      "Employee sarlar is 50000\n",
      "Employee sarlar is 50000\n",
      "developer salary is  60000\n"
     ]
    }
   ],
   "source": [
    "#passing the arguments and erun the values\n",
    "''' program to pass args of salaried of different designated \n",
    "employes from a super class to sub classes  take super class as emplayee \n",
    "and derived class as manager and developer accordingly and pass the amount with 10% and 20% bonus'''\n",
    "class employee:\n",
    "    def salary(self,cash):\n",
    "        print(f\"Employee sarlar is {cash}\")\n",
    "class manager(employee):\n",
    "    def sarlary(self,cash):\n",
    "        print(\"Manager salary is \",round(cash*1.1))\n",
    "\n",
    "class developer(employee):\n",
    "    def salary(self,cash):\n",
    "        print(\"Developer salary is \",round(cash*1.2))\n",
    "e=employee()\n",
    "m=manager()\n",
    "d=developer()\n",
    "e.salary(50000)\n",
    "m.salary(50000)\n",
    "d.salary(50000)\n"
   ]
  },
  {
   "cell_type": "code",
   "execution_count": 47,
   "id": "959adb45-67c6-4ed5-9e5d-16de7eed1893",
   "metadata": {},
   "outputs": [
    {
     "name": "stdout",
     "output_type": "stream",
     "text": [
      "Employee sarlar is 50000\n",
      "Employee sarlar is 50000\n",
      "Employee sarlar is 50000\n"
     ]
    }
   ],
   "source": [
    "class employee:\n",
    "    def __init__(self,cash):\n",
    "        self.cash=cash\n",
    "        print(f\"Employee sarlar is {cash}\")\n",
    "class manager(employee):\n",
    "    def sarlary(self):\n",
    "        print(\"Manager salary is \",round(self.cash*1.1))\n",
    "\n",
    "class developer(employee):\n",
    "    def salary(self):\n",
    "        print(\"Developer salary is \",round(self.cash*1.2))\n",
    "e=employee(50000)\n",
    "m=manager(50000)\n",
    "d=developer(50000)\n",
    "\n"
   ]
  },
  {
   "cell_type": "code",
   "execution_count": 67,
   "id": "d412f1d1-0c78-4a59-8501-8afed4bd9e2d",
   "metadata": {},
   "outputs": [
    {
     "name": "stdout",
     "output_type": "stream",
     "text": [
      "Hello , How are you.....!!!\n",
      "hey, whazzup...!!!\n",
      "who the hell are u....!!!\n"
     ]
    }
   ],
   "source": [
    "class person:\n",
    "    def hi(self):\n",
    "        return \"Hello , How are you.....!!!\"\n",
    "class friend:\n",
    "    def hi(self):\n",
    "        return \"hey, whazzup...!!!\"\n",
    "class stranger:\n",
    "    def hi(self):\n",
    "        return \"who the hell are u....!!!\"\n",
    "p=person()\n",
    "f=friend()\n",
    "s=stranger()\n",
    "print(p.hi())\n",
    "print(f.hi())\n",
    "print(s.hi())"
   ]
  },
  {
   "cell_type": "code",
   "execution_count": 77,
   "id": "6a3bbc61-9d93-4753-9d57-b60b95c0d92d",
   "metadata": {},
   "outputs": [
    {
     "name": "stdout",
     "output_type": "stream",
     "text": [
      "[1, 4, 9, 16, 25]\n"
     ]
    }
   ],
   "source": [
    "#map function split dunction\n",
    "def sq(n):\n",
    "    return n*n\n",
    "n=[1,2,3,4,5]\n",
    "sqnum=map(sq,n)\n",
    "print(list(sqnum))"
   ]
  },
  {
   "cell_type": "code",
   "execution_count": 93,
   "id": "109b4f15-dffe-48a3-88d0-ea8048e4a2a1",
   "metadata": {},
   "outputs": [
    {
     "name": "stdin",
     "output_type": "stream",
     "text": [
      "enter no.of rows a: 2\n",
      "enter no.of columns a: 2\n"
     ]
    },
    {
     "name": "stdout",
     "output_type": "stream",
     "text": [
      "Enter elemsnts  of the matrix a:\n"
     ]
    },
    {
     "name": "stdin",
     "output_type": "stream",
     "text": [
      "Row 1: 1 2\n",
      "Row 2: 3 4\n",
      "enter no.of rows b: 2\n",
      "enter no.of columns b: 2\n"
     ]
    },
    {
     "name": "stdout",
     "output_type": "stream",
     "text": [
      "Enter elemsnts  of the matrix b:\n"
     ]
    },
    {
     "name": "stdin",
     "output_type": "stream",
     "text": [
      "Row 1: 5 6\n",
      "Row 2: 7 8\n"
     ]
    },
    {
     "name": "stdout",
     "output_type": "stream",
     "text": [
      "Select operation:\n",
      "1.Addition\n",
      "2. Sutraction\n",
      "3. Product\n"
     ]
    },
    {
     "name": "stdin",
     "output_type": "stream",
     "text": [
      "Enter your choice (1/2/3): 3\n"
     ]
    },
    {
     "name": "stdout",
     "output_type": "stream",
     "text": [
      "\n",
      " result\n",
      "[19, 22]\n",
      "[43, 50]\n"
     ]
    }
   ],
   "source": [
    " ''' program to cretate a matrix operaton class to work with diferent operations\n",
    "like add, sub,mul with seperated derived classes by manual input of matrices '''\n",
    "class m_ops:\n",
    "    def operate(self ,a,b):\n",
    "        result=[]\n",
    "        for i in range(len(a)):\n",
    "            r=[]\n",
    "            for j in range(len(a[0])):\n",
    "                r.append(a[i][j]+b[i][j])\n",
    "            result.append(r)\n",
    "        return result\n",
    "\n",
    "class m_sub(m_ops):\n",
    "    def operate(self ,a,b):\n",
    "        result=[]\n",
    "        for i in range(len(a)):\n",
    "            r=[]\n",
    "            for j in range(len(a[0])):\n",
    "                r.append(a[i][j]-b[i][j])\n",
    "            result.append(r)\n",
    "        return result\n",
    "\n",
    "class m_mul(m_ops):\n",
    "    def operate(self ,a,b):\n",
    "        result=[]\n",
    "        for i in range(len(a)):\n",
    "            r=[]\n",
    "            for j in range(len(b[0])):\n",
    "                val=0\n",
    "                for k in range(len(b)):\n",
    "                    val+=a[i][k]*b[k][j]\n",
    "                r.append(val)\n",
    "            result.append(r)\n",
    "        return result\n",
    "\n",
    "def input_matrix(name):\n",
    "    r=int(input(f\"enter no.of rows {name}:\"))\n",
    "    c=int(input(f\"enter no.of columns {name}:\"))\n",
    "    matrix=[]\n",
    "    print(f\"Enter elemsnts  of the matrix {name}:\")\n",
    "    for i in range(r):\n",
    "        r=list(map(int,input(f\"Row {i+1}:\").split()))\n",
    "        matrix.append(r)\n",
    "    return matrix\n",
    "\n",
    "\n",
    "a=input_matrix('a')\n",
    "b=input_matrix('b')\n",
    "print(\"Select operation:\")\n",
    "print(\"1.Addition\")\n",
    "print(\"2. Sutraction\")\n",
    "print(\"3. Product\")\n",
    "choice=input(\"Enter your choice (1/2/3):\")\n",
    "if choice=='1':\n",
    "    op=m_ops()\n",
    "elif choice=='2':\n",
    "    op=m_sub()\n",
    "elif choice=='3':\n",
    "    op=m_mul()\n",
    "else:\n",
    "    print(\"invalid\")\n",
    "    exit()\n",
    "result=op.operate(a,b)\n",
    "print(\"\\n result\")\n",
    "for r in result:\n",
    "    print(r)\n",
    "    \n",
    "\n"
   ]
  },
  {
   "cell_type": "code",
   "execution_count": null,
   "id": "4498616e-e3c8-435e-b02b-14fde39fb0fe",
   "metadata": {},
   "outputs": [],
   "source": []
  }
 ],
 "metadata": {
  "kernelspec": {
   "display_name": "Python 3 (ipykernel)",
   "language": "python",
   "name": "python3"
  },
  "language_info": {
   "codemirror_mode": {
    "name": "ipython",
    "version": 3
   },
   "file_extension": ".py",
   "mimetype": "text/x-python",
   "name": "python",
   "nbconvert_exporter": "python",
   "pygments_lexer": "ipython3",
   "version": "3.12.7"
  }
 },
 "nbformat": 4,
 "nbformat_minor": 5
}
