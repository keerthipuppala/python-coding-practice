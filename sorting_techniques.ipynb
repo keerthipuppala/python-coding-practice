{
 "cells": [
  {
   "cell_type": "markdown",
   "id": "36f869a6",
   "metadata": {},
   "source": [
    "# SELECTION SORT\n",
    "1. select  low value\n",
    "2. swap with min index value\n",
    "3. check next lowes swap withi[0]+1\n",
    "# ALOGORITH\n",
    "1. start from the first element in the list/array\n",
    "2. arr[0]=min\n",
    "3. compare with all the remaining elements to find the real lowest element\n",
    "4. perform swapping with current possition\n",
    "5. Repeat the same with adding possitional values for each , min check untill sort the array\n",
    "# PSUDOCODE\n",
    "for -> 0 to n-1:\n",
    "    min = i\n",
    "    for j -> i+1 to n:\n",
    "        if arr[j]< arr[min]\n",
    "            swap\n",
    "min = i+1"
   ]
  },
  {
   "cell_type": "code",
   "execution_count": 11,
   "id": "4aa7ad16",
   "metadata": {},
   "outputs": [
    {
     "name": "stdout",
     "output_type": "stream",
     "text": [
      "Enter  9  elements one by one:\n",
      "Sorted array is:  [2, 4, 5, 7, 8, 12, 43, 78, 423]\n"
     ]
    }
   ],
   "source": [
    "\n",
    "def selection_sort(arr):\n",
    "    n=len(arr)\n",
    "    for i in range(n):\n",
    "        min_idx = i\n",
    "        for j in range(i+1, n):\n",
    "            if arr[j]< arr[min_idx]:\n",
    "                min_idx = j\n",
    "        arr[i], arr[min_idx] = arr[min_idx], arr[i]\n",
    "    return arr\n",
    "                \n",
    "\n",
    "size  = int(input(\"enter the number of elements:\"))\n",
    "arr=[]\n",
    "print(\"Enter \", size,\" elements one by one:\")\n",
    "\n",
    "for _ in range(size):\n",
    "    num = int(input(\"Enter the element: \"))\n",
    "    arr.append(num)\n",
    "result = selection_sort(arr)\n",
    "print(\"Sorted array is: \", result)"
   ]
  },
  {
   "cell_type": "markdown",
   "id": "542d456c",
   "metadata": {},
   "source": [
    "# INSERTION SORT\n",
    "1. start from the second elment(i=1)\n",
    "2. previous index valued element check\n",
    "3. shift larger eleent one position to the right\n",
    "4. insert current element in the correct potion \n",
    "5. repeat the process until the list is sorted\n",
    "\n",
    "# PSUDOCODE\n",
    "for i -> 1 to n-1:\n",
    "    key = arr[i]\n",
    "    j=i-1\n",
    "    while i>=0 and arr[j]>key\n",
    "        arr[j+1]=arr[j]\n",
    "        j-=1\n",
    "    arr[j+1]=key"
   ]
  },
  {
   "cell_type": "code",
   "execution_count": null,
   "id": "0a7ed2e3",
   "metadata": {},
   "outputs": [
    {
     "name": "stdout",
     "output_type": "stream",
     "text": [
      "Enter  7  elements one by one:\n",
      "Sorted array is:  [2, 4, 5, 8, 23, 45, 67]\n"
     ]
    }
   ],
   "source": [
    "# INSERTION SORT ON NUMBERS IN INCREASING ORDER\n",
    "def insertion_sort(arr):\n",
    "    n=len(arr)\n",
    "    for i in range(1,n):\n",
    "        key=arr[i]\n",
    "        j=i-1\n",
    "        while j>= 0 and arr[j] > key:\n",
    "            arr[j+1] = arr[j]\n",
    "            j=j-1\n",
    "        arr[j+1] = key\n",
    "    return arr\n",
    "size  = int(input(\"enter the number of elements:\"))\n",
    "arr=[]\n",
    "print(\"Enter \", size,\" elements one by one:\")\n",
    "\n",
    "for _ in range(size):\n",
    "    num = int(input(\"Enter the element: \"))\n",
    "    arr.append(num)\n",
    "result = insertion_sort(arr)\n",
    "print(\"Sorted array is: \", result)"
   ]
  },
  {
   "cell_type": "code",
   "execution_count": null,
   "id": "5293efb8",
   "metadata": {},
   "outputs": [
    {
     "name": "stdout",
     "output_type": "stream",
     "text": [
      "Enter  5  elements one by one:\n",
      "Sorted array is:  ['Papaya', 'banana', 'carrot', 'guava', 'kiwi']\n"
     ]
    }
   ],
   "source": [
    "# INSERTION SORT ON STINGS\n",
    "def insertion_sort(arr):\n",
    "    n=len(arr)\n",
    "    for i in range(1,n):\n",
    "        key=arr[i]\n",
    "        j=i-1\n",
    "        while j>= 0 and arr[j] > key:\n",
    "            arr[j+1] = arr[j]\n",
    "            j=j-1\n",
    "        arr[j+1] = key\n",
    "    return arr\n",
    "size  = int(input(\"enter the number of elements:\"))\n",
    "arr=[]\n",
    "print(\"Enter \", size,\" elements one by one:\")\n",
    "\n",
    "for _ in range(size):\n",
    "    element = input(\"Enter the element: \")\n",
    "    arr.append(element)\n",
    "result = insertion_sort(arr)\n",
    "print(\"Sorted array is: \", result)"
   ]
  },
  {
   "cell_type": "code",
   "execution_count": null,
   "id": "09254a99",
   "metadata": {},
   "outputs": [
    {
     "name": "stdout",
     "output_type": "stream",
     "text": [
      "Enter  6  elements one by one:\n",
      "Sorted array is:  [89, 65, 45, 23, 12, 4]\n"
     ]
    }
   ],
   "source": [
    "# INSERTION SORT ON NUMBERS IN DESCENDING ORDER\n",
    "def insertion_sort(arr):\n",
    "    n=len(arr)\n",
    "    for i in range(1,n):\n",
    "        key=arr[i]\n",
    "        j=i-1\n",
    "        while j>= 0 and arr[j] < key:\n",
    "            arr[j+1] = arr[j]\n",
    "            j=j-1\n",
    "        arr[j+1] = key\n",
    "    return arr\n",
    "size  = int(input(\"enter the number of elements:\"))\n",
    "arr=[]\n",
    "print(\"Enter \", size,\" elements one by one:\")\n",
    "\n",
    "for _ in range(size):\n",
    "    num = int(input(\"Enter the element: \"))\n",
    "    arr.append(num)\n",
    "result = insertion_sort(arr)\n",
    "print(\"Sorted array is: \", result)"
   ]
  },
  {
   "cell_type": "code",
   "execution_count": null,
   "id": "361e1b07",
   "metadata": {},
   "outputs": [
    {
     "name": "stdout",
     "output_type": "stream",
     "text": [
      "Enter  4  elements one by one:\n",
      "Sorted array is:  ['q', 'qw', 'rtu', 'erty']\n"
     ]
    }
   ],
   "source": [
    "# INSERTION SORT BASED   ON LENGTH OF THE STRING\n",
    "def insertion_sort(arr):\n",
    "    n=len(arr)\n",
    "    for i in range(1,n):\n",
    "        key=arr[i]\n",
    "        key_len=len(key)\n",
    "        j=i-1\n",
    "        while j>= 0 and len(arr[j]) > key_len:\n",
    "            arr[j+1] = arr[j]\n",
    "            j=j-1\n",
    "        arr[j+1] = key\n",
    "    return arr\n",
    "size  = int(input(\"enter the number of elements:\"))\n",
    "arr=[]\n",
    "print(\"Enter \", size,\" elements one by one:\")\n",
    "\n",
    "for _ in range(size):\n",
    "    num = (input(\"Enter the element: \"))\n",
    "    arr.append(num)\n",
    "result = insertion_sort(arr)\n",
    "print(\"Sorted array is: \", result)"
   ]
  },
  {
   "cell_type": "code",
   "execution_count": 25,
   "id": "3d3a972f",
   "metadata": {},
   "outputs": [
    {
     "name": "stdout",
     "output_type": "stream",
     "text": [
      "['k', 'e', 'e', 'r', 't', 'h', 'i']\n",
      "['e', 'e', 'h', 'i', 'k', 'r', 't']\n",
      "Sorted character:  eehikrt\n"
     ]
    }
   ],
   "source": [
    "# INSERTION SORT ON NUMBERS IN INCREASING ORDER\n",
    "def insertion_sort(arr):\n",
    "    n=len(arr)\n",
    "    for i in range(1,n):\n",
    "        key=arr[i]\n",
    "        j=i-1\n",
    "        while j>= 0 and arr[j] > key:\n",
    "            arr[j+1] = arr[j]\n",
    "            j=j-1\n",
    "        arr[j+1] = key\n",
    "    return arr\n",
    "text  = input(\"enter the string:\")\n",
    "ch = list(text)\n",
    "print(ch)\n",
    "sort_chars=insertion_sort(ch)\n",
    "print(ch)\n",
    "print(\"Sorted character: \", ''.join(ch))"
   ]
  },
  {
   "cell_type": "code",
   "execution_count": null,
   "id": "1fdef4de",
   "metadata": {},
   "outputs": [],
   "source": []
  },
  {
   "cell_type": "code",
   "execution_count": null,
   "id": "93088863",
   "metadata": {},
   "outputs": [],
   "source": []
  }
 ],
 "metadata": {
  "kernelspec": {
   "display_name": "base",
   "language": "python",
   "name": "python3"
  },
  "language_info": {
   "codemirror_mode": {
    "name": "ipython",
    "version": 3
   },
   "file_extension": ".py",
   "mimetype": "text/x-python",
   "name": "python",
   "nbconvert_exporter": "python",
   "pygments_lexer": "ipython3",
   "version": "3.12.7"
  }
 },
 "nbformat": 4,
 "nbformat_minor": 5
}
