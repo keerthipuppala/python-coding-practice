{
 "cells": [
  {
   "cell_type": "code",
   "execution_count": 5,
   "id": "8e516bb4-8f34-4589-b683-56cfe19239b8",
   "metadata": {},
   "outputs": [
    {
     "name": "stdout",
     "output_type": "stream",
     "text": [
      "HEllO Satya\n",
      "HEllO keerthi\n"
     ]
    }
   ],
   "source": [
    "#simple over loading method\n",
    "def name(str='Satya'):\n",
    "    print(\"HEllO\",str)\n",
    "name()\n",
    "name('keerthi')"
   ]
  },
  {
   "cell_type": "code",
   "execution_count": 9,
   "id": "600b0e2c-8eb7-49fe-8177-624b8de447f3",
   "metadata": {},
   "outputs": [
    {
     "name": "stdout",
     "output_type": "stream",
     "text": [
      "11\n"
     ]
    }
   ],
   "source": [
    "#multiple overloadig * args with numbers\n",
    "def abc(*args):\n",
    "    return sum(args)\n",
    "res= abc(1,2,3,5)\n",
    "print(res)\n"
   ]
  },
  {
   "cell_type": "code",
   "execution_count": 39,
   "id": "7b0a7e51-36f7-4832-8b72-21aa894acb89",
   "metadata": {},
   "outputs": [
    {
     "name": "stdout",
     "output_type": "stream",
     "text": [
      "(3,6)\n"
     ]
    }
   ],
   "source": [
    "#operators overload\n",
    "class val:\n",
    "    def __init__(self,a,b):\n",
    "        self.a=a\n",
    "        self.b=b\n",
    "    def __add__(self,overload):\n",
    "        return val(self.a+overload.a,self.b+overload.b)\n",
    "    def __str__(self):\n",
    "        return f\"({self.a},{self.b})\"\n",
    "x=val(1,2)\n",
    "y=val(2,4)\n",
    "\n",
    "print(x+y)"
   ]
  },
  {
   "cell_type": "code",
   "execution_count": 55,
   "id": "2b62d642-f3b0-4d93-ae01-8b4f7712e9b2",
   "metadata": {},
   "outputs": [
    {
     "name": "stdout",
     "output_type": "stream",
     "text": [
      "(3+6i)\n"
     ]
    }
   ],
   "source": [
    "'''program to add 2 complex numbers using method overloading and print the total\n",
    "the imaginary and real numbers\n",
    "a=1+2i\n",
    "b=3+4i\n",
    "output=4+6i\n",
    "'''\n",
    "class complex:\n",
    "    def __init__(self,r=0,i=0):\n",
    "        self.r=r\n",
    "        self.i=i\n",
    "    def __add__(self,overload):\n",
    "        return complex(self.r+overload.r,self.i+overload.i)\n",
    "    def __str__(self):\n",
    "        return f\"({self.r}+{self.i}i)\"\n",
    "x=complex(1,2)\n",
    "y=complex(2,4)\n",
    "ans=x+y\n",
    "print(ans)"
   ]
  },
  {
   "cell_type": "code",
   "execution_count": 59,
   "id": "9fbe1a0b-8e90-43ee-8a76-60d59cfaf854",
   "metadata": {},
   "outputs": [
    {
     "name": "stdout",
     "output_type": "stream",
     "text": [
      "(3+6i)\n"
     ]
    }
   ],
   "source": [
    "class complex:\n",
    "    def __init__(self,r=0,i=0):\n",
    "        self.r=r\n",
    "        self.i=i\n",
    "    def __add__(self,overload):\n",
    "        #isinstance() self, i,r complex\n",
    "        if isinstance(overload,complex):\n",
    "            return complex(self.r+overload.r,self.i+overload.i)\n",
    "        else:\n",
    "            raise TypeError(\"Unsupported operand type for +\")\n",
    "    def __str__(self):\n",
    "        return f\"({self.r}+{self.i}i)\"\n",
    "x=complex(1,2)\n",
    "y=complex(2,4)\n",
    "ans=x+y\n",
    "print(ans)"
   ]
  },
  {
   "cell_type": "code",
   "execution_count": null,
   "id": "b8fd4380-c973-4811-9ef1-26c45c1b2662",
   "metadata": {},
   "outputs": [],
   "source": []
  }
 ],
 "metadata": {
  "kernelspec": {
   "display_name": "Python 3 (ipykernel)",
   "language": "python",
   "name": "python3"
  },
  "language_info": {
   "codemirror_mode": {
    "name": "ipython",
    "version": 3
   },
   "file_extension": ".py",
   "mimetype": "text/x-python",
   "name": "python",
   "nbconvert_exporter": "python",
   "pygments_lexer": "ipython3",
   "version": "3.12.7"
  }
 },
 "nbformat": 4,
 "nbformat_minor": 5
}
