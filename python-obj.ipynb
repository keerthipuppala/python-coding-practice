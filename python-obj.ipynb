{
 "cells": [
  {
   "cell_type": "code",
   "execution_count": 9,
   "id": "f5b88c8d-a07b-4413-89bd-e942c804a34d",
   "metadata": {},
   "outputs": [
    {
     "name": "stdout",
     "output_type": "stream",
     "text": [
      "the object value is : 10\n",
      "the value of class variable is: 1\n",
      "the object value is : 20\n",
      "the value of class variable is: 2\n",
      "the object value is : 30\n",
      "the value of class variable is: 3\n",
      "object with value 10 is going to outof scope\n",
      "object with value 20 is going to outof scope\n",
      "object with value 30 is going to outof scope\n"
     ]
    }
   ],
   "source": [
    "#code for the del method ---    __del__()\n",
    "class abc():\n",
    "    classvar=0\n",
    "    def __init__(self,var):\n",
    "        abc.classvar+=1\n",
    "        self.var=var\n",
    "        print(\"the object value is :\",var)\n",
    "        print(\"the value of class variable is:\",abc.classvar)\n",
    "    def __del__(self):\n",
    "        abc.classvar-=1\n",
    "        print(\"object with value %d is going to outof scope\"%self.var)\n",
    "obj1=abc(10)\n",
    "obj2=abc(20)\n",
    "obj3=abc(30)\n",
    "del obj1\n",
    "del obj2\n",
    "del obj3"
   ]
  },
  {
   "cell_type": "code",
   "execution_count": 27,
   "id": "1ee2b1f0-982a-41f2-88ad-9897c250a45f",
   "metadata": {},
   "outputs": [
    {
     "name": "stdin",
     "output_type": "stream",
     "text": [
      "enter the value of a: 5\n",
      "enter the value of b: 7\n"
     ]
    },
    {
     "name": "stdout",
     "output_type": "stream",
     "text": [
      " initialised with a=5,b=7\n",
      "addition 12\n",
      "subtraction -2\n",
      "multiplication 35\n",
      "Division 0.7142857142857143\n",
      "Deleting obj with a = 5,b=7\n"
     ]
    }
   ],
   "source": [
    "#number operations to perform a.0 by class and delete the call\n",
    "class numops():\n",
    "    def __init__(self,a,b):\n",
    "        self.a=a\n",
    "        self.b=b\n",
    "        print(f\" initialised with a={a},b={b}\")\n",
    "    def add(self):\n",
    "        return self.a+self.b\n",
    "    def sub(self):\n",
    "        return self.a-self.b \n",
    "    def mul(self):\n",
    "        return self.a*self.b \n",
    "    def div(self):\n",
    "        if self.b!=0:\n",
    "            return self.a/self.b \n",
    "        else:\n",
    "            return \"Divoision by Zero Error!!!\"\n",
    "    def __del__(self):\n",
    "        print(f\"Deleting obj with a = {self.a},b={self.b}\")\n",
    "n1=int(input(\"enter the value of a:\"))\n",
    "n2=int(input(\"enter the value of b:\"))  \n",
    "op=numops(n1,n2)\n",
    "print(\"addition\",op.add())\n",
    "print(\"subtraction\",op.sub())\n",
    "print(\"multiplication\",op.mul())\n",
    "print(\"Division\",op.div())\n",
    "del op\n"
   ]
  },
  {
   "cell_type": "code",
   "execution_count": 31,
   "id": "9af07797-3b66-43c1-8c19-6bc0f4c71c2b",
   "metadata": {},
   "outputs": [
    {
     "name": "stdout",
     "output_type": "stream",
     "text": [
      "6\n",
      "[1, 2, 3, 99, 5, 6, 7, 8, 9]\n"
     ]
    }
   ],
   "source": [
    "#get item and set item by a list\n",
    "class nums:\n",
    "    def __init__(self,mylist):\n",
    "        self.mylist=mylist\n",
    "    def __getitem__(self,index):\n",
    "        return self.mylist[index]\n",
    "    def __setitem__(self,index,val):\n",
    "        self.mylist[index]=val\n",
    "numlist=nums([1,2,3,4,5,6,7,8,9])\n",
    "print(numlist[5])\n",
    "numlist[3]=99\n",
    "print(numlist.mylist)"
   ]
  },
  {
   "cell_type": "code",
   "execution_count": 54,
   "id": "b97cee7d-78d6-4ccf-8d52-464b5e454e3b",
   "metadata": {},
   "outputs": [
    {
     "name": "stdout",
     "output_type": "stream",
     "text": [
      "from class method, var1= 11\n",
      "from class method, var2= 22\n",
      "from obj, var1= 11\n"
     ]
    },
    {
     "ename": "AttributeError",
     "evalue": "'abc' object has no attribute '__v2'",
     "output_type": "error",
     "traceback": [
      "\u001b[1;31m---------------------------------------------------------------------------\u001b[0m",
      "\u001b[1;31mAttributeError\u001b[0m                            Traceback (most recent call last)",
      "Cell \u001b[1;32mIn[54], line 12\u001b[0m\n\u001b[0;32m     10\u001b[0m obj\u001b[38;5;241m.\u001b[39mdisplay()\n\u001b[0;32m     11\u001b[0m \u001b[38;5;28mprint\u001b[39m(\u001b[38;5;124m\"\u001b[39m\u001b[38;5;124mfrom obj, var1=\u001b[39m\u001b[38;5;124m\"\u001b[39m,obj\u001b[38;5;241m.\u001b[39mv1)\n\u001b[1;32m---> 12\u001b[0m \u001b[38;5;28mprint\u001b[39m(\u001b[38;5;124m\"\u001b[39m\u001b[38;5;124mfrom obj, var2=\u001b[39m\u001b[38;5;124m\"\u001b[39m,obj\u001b[38;5;241m.\u001b[39m__v2)\n",
      "\u001b[1;31mAttributeError\u001b[0m: 'abc' object has no attribute '__v2'"
     ]
    }
   ],
   "source": [
    "#public variables and private variables \n",
    "class abc():\n",
    "    def __init__(self,v1,v2):\n",
    "        self.v1=v1\n",
    "        self.__v2=v2\n",
    "    def display(self):\n",
    "        print(\"from class method, var1=\",self.v1)\n",
    "        print(\"from class method, var2=\",self.__v2)\n",
    "obj=abc(11,22)\n",
    "obj.display()\n",
    "print(\"from obj, var1=\",obj.v1)\n",
    "print(\"from obj, var2=\",obj.__v2)#expecting the error\n"
   ]
  },
  {
   "cell_type": "code",
   "execution_count": 56,
   "id": "68f28657-7406-4bc4-9ed3-49d591cece3f",
   "metadata": {},
   "outputs": [
    {
     "name": "stdin",
     "output_type": "stream",
     "text": [
      "enter the first student name: mark\n",
      "enter the marks of mark in in the subject 1:  99\n",
      "enter the marks of mark in in the subject 2:  98\n",
      "enter the marks of mark in in the subject 3:  97\n",
      "enter the second student name: steve\n",
      "enter the marks of steve in in the subject 1:  79\n",
      "enter the marks of steve in in the subject 2:  77\n",
      "enter the marks of steve in in the subject 3:  69\n"
     ]
    },
    {
     "name": "stdout",
     "output_type": "stream",
     "text": [
      "mark got [99, 98, 97]\n",
      "steve got [79, 77, 69]\n"
     ]
    }
   ],
   "source": [
    "''' problem statement:\n",
    "code that uses a class to store the name  and marks of a student.\n",
    "use a list to store the marks of 3 subjects.\n",
    "1.\n",
    "create a class student\n",
    "2.\n",
    "create a function in the class with in the range of 3 subjects\n",
    "3.\n",
    "take manual input of the marks to be apprehended in the list\n",
    "4.\n",
    "display the name of the student along with marks in a list\n",
    "\n",
    "\n",
    "input \"mark\" , \"steve\"\n",
    "manual input : markmar = 99,98,97\n",
    "                steve =79,77,69\n",
    "\n",
    "output:\n",
    "mark got [99,98,97]\n",
    "steve got [79, 77, 69]\n",
    "'''\n",
    "\n",
    "\n",
    "class student():\n",
    "    def __init__(self,name):\n",
    "        self.name=name\n",
    "        self.marks=[]\n",
    "    def entermarks(self):\n",
    "        for i in range(3):\n",
    "            m=int(input(\"enter the marks of %s in in the subject %d: \" %(self.name,i+1) ))\n",
    "            self.marks.append(m)\n",
    "    def display(self):\n",
    "        print(self.name, \"got\", self.marks)\n",
    "name1=input(\"enter the first student name:\")\n",
    "s1=student(name1)\n",
    "s1.entermarks()\n",
    "name2=input(\"enter the second student name:\")\n",
    "s2=student(name2)\n",
    "s2.entermarks()\n",
    "s1.display()\n",
    "s2.display()"
   ]
  },
  {
   "cell_type": "code",
   "execution_count": null,
   "id": "9f8e6422-b8ee-44d4-a1f4-34375fc7b624",
   "metadata": {},
   "outputs": [],
   "source": []
  }
 ],
 "metadata": {
  "kernelspec": {
   "display_name": "Python 3 (ipykernel)",
   "language": "python",
   "name": "python3"
  },
  "language_info": {
   "codemirror_mode": {
    "name": "ipython",
    "version": 3
   },
   "file_extension": ".py",
   "mimetype": "text/x-python",
   "name": "python",
   "nbconvert_exporter": "python",
   "pygments_lexer": "ipython3",
   "version": "3.12.7"
  }
 },
 "nbformat": 4,
 "nbformat_minor": 5
}
